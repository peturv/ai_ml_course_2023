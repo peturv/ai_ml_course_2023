{
 "cells": [
  {
   "cell_type": "markdown",
   "metadata": {
    "colab_type": "text",
    "id": "3cbb7fRy-eyr"
   },
   "source": [
    "# Artificial Neural Network"
   ]
  },
  {
   "cell_type": "markdown",
   "metadata": {
    "colab_type": "text",
    "id": "8sNDnxE2-pwE"
   },
   "source": [
    "### Importing the libraries"
   ]
  },
  {
   "cell_type": "code",
   "execution_count": 87,
   "metadata": {
    "colab": {},
    "colab_type": "code",
    "id": "lxChR1Rk-umf",
    "ExecuteTime": {
     "end_time": "2023-10-30T19:46:15.942233Z",
     "start_time": "2023-10-30T19:46:15.899192Z"
    }
   },
   "outputs": [],
   "source": [
    "import numpy as np\n",
    "import pandas as pd\n",
    "import tensorflow as tf"
   ]
  },
  {
   "cell_type": "code",
   "execution_count": 88,
   "metadata": {
    "colab": {
     "base_uri": "https://localhost:8080/",
     "height": 34
    },
    "colab_type": "code",
    "id": "uBTqR3nacj0e",
    "outputId": "4c0bd183-e424-429a-9fba-ceb841c06888",
    "ExecuteTime": {
     "end_time": "2023-10-30T19:46:15.953131Z",
     "start_time": "2023-10-30T19:46:15.903154Z"
    }
   },
   "outputs": [
    {
     "data": {
      "text/plain": "'2.14.0'"
     },
     "execution_count": 88,
     "metadata": {},
     "output_type": "execute_result"
    }
   ],
   "source": [
    "tf.__version__"
   ]
  },
  {
   "cell_type": "markdown",
   "metadata": {
    "colab_type": "text",
    "id": "AG3FQEch-yuA"
   },
   "source": [
    "## Part 1 - Data Preprocessing"
   ]
  },
  {
   "cell_type": "markdown",
   "metadata": {},
   "source": [
    "### Importing the dataset"
   ]
  },
  {
   "cell_type": "code",
   "execution_count": 89,
   "metadata": {
    "ExecuteTime": {
     "end_time": "2023-10-30T19:46:16.227658Z",
     "start_time": "2023-10-30T19:46:15.907526Z"
    }
   },
   "outputs": [],
   "source": [
    "dataset = pd.read_excel('Folds5x2_pp.xlsx')"
   ]
  },
  {
   "cell_type": "code",
   "execution_count": 90,
   "metadata": {
    "ExecuteTime": {
     "end_time": "2023-10-30T19:46:16.231697Z",
     "start_time": "2023-10-30T19:46:16.228022Z"
    }
   },
   "outputs": [],
   "source": [
    "#!pip install openpyxl"
   ]
  },
  {
   "cell_type": "code",
   "execution_count": 91,
   "metadata": {
    "ExecuteTime": {
     "end_time": "2023-10-30T19:46:16.232633Z",
     "start_time": "2023-10-30T19:46:16.230550Z"
    }
   },
   "outputs": [],
   "source": [
    "X = dataset.iloc[:, :-1].values\n",
    "y = dataset.iloc[:, -1].values"
   ]
  },
  {
   "cell_type": "code",
   "execution_count": 92,
   "metadata": {
    "colab_type": "text",
    "id": "-4zq8Mza_D9O",
    "ExecuteTime": {
     "end_time": "2023-10-30T19:46:16.236104Z",
     "start_time": "2023-10-30T19:46:16.233081Z"
    }
   },
   "outputs": [
    {
     "data": {
      "text/plain": "(9568,)"
     },
     "execution_count": 92,
     "metadata": {},
     "output_type": "execute_result"
    }
   ],
   "source": [
    "y.shape"
   ]
  },
  {
   "cell_type": "markdown",
   "metadata": {
    "colab_type": "text",
    "id": "VC6omXel_Up0"
   },
   "source": [
    "### Splitting the dataset into the Training set and Test set"
   ]
  },
  {
   "cell_type": "code",
   "execution_count": 93,
   "metadata": {
    "ExecuteTime": {
     "end_time": "2023-10-30T19:46:16.239884Z",
     "start_time": "2023-10-30T19:46:16.235224Z"
    }
   },
   "outputs": [],
   "source": [
    "from sklearn.model_selection import train_test_split\n",
    "X_train, X_test, y_train, y_test = train_test_split(X, y, test_size = 0.2, random_state = 0)"
   ]
  },
  {
   "cell_type": "markdown",
   "metadata": {
    "colab_type": "text",
    "id": "_mSLlAT9_eyI"
   },
   "source": [
    "## Part 2 - Building the ANN"
   ]
  },
  {
   "cell_type": "markdown",
   "metadata": {
    "colab_type": "text",
    "id": "CsBULd_f_wLY"
   },
   "source": [
    "### Initializing the ANN"
   ]
  },
  {
   "cell_type": "code",
   "execution_count": 94,
   "metadata": {
    "ExecuteTime": {
     "end_time": "2023-10-30T19:46:16.243378Z",
     "start_time": "2023-10-30T19:46:16.238242Z"
    }
   },
   "outputs": [],
   "source": [
    "ann = tf.keras.models.Sequential()"
   ]
  },
  {
   "cell_type": "markdown",
   "metadata": {
    "colab_type": "text",
    "id": "iitAFJS_ABUn"
   },
   "source": [
    "### Adding the input layer and the first hidden layer"
   ]
  },
  {
   "cell_type": "code",
   "execution_count": 95,
   "metadata": {
    "ExecuteTime": {
     "end_time": "2023-10-30T19:46:16.244333Z",
     "start_time": "2023-10-30T19:46:16.242430Z"
    }
   },
   "outputs": [],
   "source": [
    "ann.add(tf.keras.layers.Dense(units=6,activation='relu'))"
   ]
  },
  {
   "cell_type": "markdown",
   "metadata": {
    "colab_type": "text",
    "id": "-lb4kK_wAKbs"
   },
   "source": [
    "### Adding the second hidden layer"
   ]
  },
  {
   "cell_type": "code",
   "execution_count": 96,
   "metadata": {
    "ExecuteTime": {
     "end_time": "2023-10-30T19:46:16.247669Z",
     "start_time": "2023-10-30T19:46:16.245838Z"
    }
   },
   "outputs": [],
   "source": [
    "ann.add(tf.keras.layers.Dense(units=6,activation='relu'))\n",
    "ann.add(tf.keras.layers.Dense(units=6,activation='relu'))"
   ]
  },
  {
   "cell_type": "markdown",
   "metadata": {
    "colab_type": "text",
    "id": "jwMOmKb3AdBY"
   },
   "source": [
    "### Adding the output layer"
   ]
  },
  {
   "cell_type": "code",
   "execution_count": 97,
   "metadata": {
    "ExecuteTime": {
     "end_time": "2023-10-30T19:46:16.265133Z",
     "start_time": "2023-10-30T19:46:16.250160Z"
    }
   },
   "outputs": [],
   "source": [
    "# Recommended activation functions:\n",
    "# Binary classification : sigmoid\n",
    "# Mutiple class classification : softmax\n",
    "# Regression : None or relu\n",
    "ann.add(tf.keras.layers.Dense(units=1,activation=None))"
   ]
  },
  {
   "cell_type": "markdown",
   "metadata": {
    "colab_type": "text",
    "id": "fq7e4fF6A1yy"
   },
   "source": [
    "## Part 3 - Training the ANN"
   ]
  },
  {
   "cell_type": "markdown",
   "metadata": {
    "colab_type": "text",
    "id": "qDeylAs2An25"
   },
   "source": [
    "### Compiling the ANN"
   ]
  },
  {
   "cell_type": "code",
   "execution_count": 98,
   "metadata": {
    "ExecuteTime": {
     "end_time": "2023-10-30T19:46:16.265618Z",
     "start_time": "2023-10-30T19:46:16.254502Z"
    }
   },
   "outputs": [],
   "source": [
    "ann.compile(optimizer='adam', loss='mean_squared_error')"
   ]
  },
  {
   "cell_type": "markdown",
   "metadata": {
    "colab_type": "text",
    "id": "YjVuiybYOo7r"
   },
   "source": [
    "### Training the ANN model on the Training set"
   ]
  },
  {
   "cell_type": "code",
   "execution_count": 99,
   "metadata": {
    "ExecuteTime": {
     "end_time": "2023-10-30T19:46:22.017609Z",
     "start_time": "2023-10-30T19:46:16.258154Z"
    }
   },
   "outputs": [
    {
     "name": "stdout",
     "output_type": "stream",
     "text": [
      "Epoch 1/50\n",
      "240/240 [==============================] - 0s 464us/step - loss: 14101.1201\n",
      "Epoch 2/50\n",
      "240/240 [==============================] - 0s 447us/step - loss: 284.4040\n",
      "Epoch 3/50\n",
      "240/240 [==============================] - 0s 450us/step - loss: 262.7653\n",
      "Epoch 4/50\n",
      "240/240 [==============================] - 0s 439us/step - loss: 236.7508\n",
      "Epoch 5/50\n",
      "240/240 [==============================] - 0s 444us/step - loss: 209.1429\n",
      "Epoch 6/50\n",
      "240/240 [==============================] - 0s 479us/step - loss: 180.3219\n",
      "Epoch 7/50\n",
      "240/240 [==============================] - 0s 516us/step - loss: 152.9788\n",
      "Epoch 8/50\n",
      "240/240 [==============================] - 0s 519us/step - loss: 127.6335\n",
      "Epoch 9/50\n",
      "240/240 [==============================] - 0s 590us/step - loss: 104.6831\n",
      "Epoch 10/50\n",
      "240/240 [==============================] - 0s 502us/step - loss: 85.5106\n",
      "Epoch 11/50\n",
      "240/240 [==============================] - 0s 480us/step - loss: 70.4320\n",
      "Epoch 12/50\n",
      "240/240 [==============================] - 0s 459us/step - loss: 59.1151\n",
      "Epoch 13/50\n",
      "240/240 [==============================] - 0s 462us/step - loss: 50.7168\n",
      "Epoch 14/50\n",
      "240/240 [==============================] - 0s 483us/step - loss: 45.6034\n",
      "Epoch 15/50\n",
      "240/240 [==============================] - 0s 502us/step - loss: 42.0483\n",
      "Epoch 16/50\n",
      "240/240 [==============================] - 0s 457us/step - loss: 39.9553\n",
      "Epoch 17/50\n",
      "240/240 [==============================] - 0s 492us/step - loss: 38.3910\n",
      "Epoch 18/50\n",
      "240/240 [==============================] - 0s 479us/step - loss: 36.9948\n",
      "Epoch 19/50\n",
      "240/240 [==============================] - 0s 495us/step - loss: 36.1520\n",
      "Epoch 20/50\n",
      "240/240 [==============================] - 0s 478us/step - loss: 35.3805\n",
      "Epoch 21/50\n",
      "240/240 [==============================] - 0s 488us/step - loss: 34.8217\n",
      "Epoch 22/50\n",
      "240/240 [==============================] - 0s 472us/step - loss: 33.4797\n",
      "Epoch 23/50\n",
      "240/240 [==============================] - 0s 487us/step - loss: 33.0876\n",
      "Epoch 24/50\n",
      "240/240 [==============================] - 0s 472us/step - loss: 32.6935\n",
      "Epoch 25/50\n",
      "240/240 [==============================] - 0s 453us/step - loss: 32.3944\n",
      "Epoch 26/50\n",
      "240/240 [==============================] - 0s 448us/step - loss: 31.2383\n",
      "Epoch 27/50\n",
      "240/240 [==============================] - 0s 451us/step - loss: 30.8783\n",
      "Epoch 28/50\n",
      "240/240 [==============================] - 0s 455us/step - loss: 29.9758\n",
      "Epoch 29/50\n",
      "240/240 [==============================] - 0s 441us/step - loss: 30.2299\n",
      "Epoch 30/50\n",
      "240/240 [==============================] - 0s 464us/step - loss: 29.1910\n",
      "Epoch 31/50\n",
      "240/240 [==============================] - 0s 462us/step - loss: 29.4689\n",
      "Epoch 32/50\n",
      "240/240 [==============================] - 0s 458us/step - loss: 29.2364\n",
      "Epoch 33/50\n",
      "240/240 [==============================] - 0s 464us/step - loss: 28.5455\n",
      "Epoch 34/50\n",
      "240/240 [==============================] - 0s 451us/step - loss: 28.3757\n",
      "Epoch 35/50\n",
      "240/240 [==============================] - 0s 465us/step - loss: 28.0127\n",
      "Epoch 36/50\n",
      "240/240 [==============================] - 0s 443us/step - loss: 27.6251\n",
      "Epoch 37/50\n",
      "240/240 [==============================] - 0s 435us/step - loss: 27.7957\n",
      "Epoch 38/50\n",
      "240/240 [==============================] - 0s 435us/step - loss: 27.6995\n",
      "Epoch 39/50\n",
      "240/240 [==============================] - 0s 429us/step - loss: 27.4041\n",
      "Epoch 40/50\n",
      "240/240 [==============================] - 0s 434us/step - loss: 27.0527\n",
      "Epoch 41/50\n",
      "240/240 [==============================] - 0s 429us/step - loss: 27.4650\n",
      "Epoch 42/50\n",
      "240/240 [==============================] - 0s 456us/step - loss: 27.5771\n",
      "Epoch 43/50\n",
      "240/240 [==============================] - 0s 441us/step - loss: 27.2783\n",
      "Epoch 44/50\n",
      "240/240 [==============================] - 0s 434us/step - loss: 27.1156\n",
      "Epoch 45/50\n",
      "240/240 [==============================] - 0s 432us/step - loss: 27.2569\n",
      "Epoch 46/50\n",
      "240/240 [==============================] - 0s 436us/step - loss: 27.3911\n",
      "Epoch 47/50\n",
      "240/240 [==============================] - 0s 444us/step - loss: 27.0872\n",
      "Epoch 48/50\n",
      "240/240 [==============================] - 0s 424us/step - loss: 26.5787\n",
      "Epoch 49/50\n",
      "240/240 [==============================] - 0s 439us/step - loss: 27.1712\n",
      "Epoch 50/50\n",
      "240/240 [==============================] - 0s 436us/step - loss: 27.2052\n"
     ]
    },
    {
     "data": {
      "text/plain": "<keras.src.callbacks.History at 0x296290890>"
     },
     "execution_count": 99,
     "metadata": {},
     "output_type": "execute_result"
    }
   ],
   "source": [
    "ann.fit(x=X_train,y=y_train, batch_size=32, epochs= 50)"
   ]
  },
  {
   "cell_type": "markdown",
   "metadata": {
    "colab_type": "text",
    "id": "0H0zKKNEBLD5"
   },
   "source": [
    "### Predicting the results of the Test set"
   ]
  },
  {
   "cell_type": "code",
   "execution_count": 100,
   "metadata": {
    "ExecuteTime": {
     "end_time": "2023-10-30T19:46:22.090857Z",
     "start_time": "2023-10-30T19:46:22.021088Z"
    }
   },
   "outputs": [
    {
     "name": "stdout",
     "output_type": "stream",
     "text": [
      "60/60 [==============================] - 0s 398us/step\n"
     ]
    }
   ],
   "source": [
    "y_pred=ann.predict(X_test)"
   ]
  },
  {
   "cell_type": "code",
   "execution_count": 101,
   "metadata": {
    "ExecuteTime": {
     "end_time": "2023-10-30T19:46:22.095619Z",
     "start_time": "2023-10-30T19:46:22.086665Z"
    }
   },
   "outputs": [
    {
     "name": "stdout",
     "output_type": "stream",
     "text": [
      "[[429.66091919 431.23      ]\n",
      " [460.9699707  460.01      ]\n",
      " [464.6164856  461.14      ]\n",
      " ...\n",
      " [471.56015015 473.26      ]\n",
      " [438.89666748 438.        ]\n",
      " [457.8828125  463.28      ]]\n"
     ]
    }
   ],
   "source": [
    "print(np.concatenate((y_pred.reshape(len(y_pred),1), y_test.reshape(len(y_test),1)),1))"
   ]
  },
  {
   "cell_type": "code",
   "execution_count": 102,
   "metadata": {
    "ExecuteTime": {
     "end_time": "2023-10-30T19:46:22.097385Z",
     "start_time": "2023-10-30T19:46:22.089324Z"
    }
   },
   "outputs": [
    {
     "name": "stdout",
     "output_type": "stream",
     "text": [
      "[[429.66091919 431.23      ]\n",
      " [460.9699707  460.01      ]\n",
      " [464.6164856  461.14      ]\n",
      " [447.5062561  445.9       ]\n",
      " [458.55352783 451.29      ]\n",
      " [427.86178589 432.68      ]\n",
      " [470.07254028 477.5       ]\n",
      " [456.32803345 459.68      ]\n",
      " [473.66513062 477.5       ]\n",
      " [443.04684448 444.99      ]\n",
      " [440.87298584 444.37      ]\n",
      " [440.28845215 437.04      ]\n",
      " [445.22817993 442.34      ]\n",
      " [440.98178101 440.74      ]\n",
      " [436.447052   436.55      ]\n",
      " [454.67095947 460.24      ]\n",
      " [446.41439819 448.66      ]\n",
      " [435.78082275 432.94      ]\n",
      " [449.87628174 452.82      ]\n",
      " [427.06619263 432.2       ]]\n"
     ]
    }
   ],
   "source": [
    "print(np.concatenate((y_pred.reshape(len(y_pred),1), y_test.reshape(len(y_test),1)),1)[0:20])"
   ]
  },
  {
   "cell_type": "code",
   "execution_count": 103,
   "metadata": {
    "ExecuteTime": {
     "end_time": "2023-10-30T19:46:22.097500Z",
     "start_time": "2023-10-30T19:46:22.091802Z"
    }
   },
   "outputs": [],
   "source": [
    "from sklearn.metrics import r2_score"
   ]
  },
  {
   "cell_type": "code",
   "execution_count": 104,
   "metadata": {
    "ExecuteTime": {
     "end_time": "2023-10-30T19:46:22.098557Z",
     "start_time": "2023-10-30T19:46:22.093539Z"
    }
   },
   "outputs": [
    {
     "name": "stdout",
     "output_type": "stream",
     "text": [
      "0.9085004812841035\n"
     ]
    }
   ],
   "source": [
    "print(r2_score(y_test,y_pred))"
   ]
  },
  {
   "cell_type": "code",
   "execution_count": 104,
   "metadata": {
    "ExecuteTime": {
     "end_time": "2023-10-30T19:46:22.099895Z",
     "start_time": "2023-10-30T19:46:22.096550Z"
    }
   },
   "outputs": [],
   "source": []
  }
 ],
 "metadata": {
  "colab": {
   "collapsed_sections": [],
   "name": "Artificial Neural Network",
   "provenance": [],
   "toc_visible": true
  },
  "kernelspec": {
   "display_name": "Python 3 (ipykernel)",
   "language": "python",
   "name": "python3"
  },
  "language_info": {
   "codemirror_mode": {
    "name": "ipython",
    "version": 3
   },
   "file_extension": ".py",
   "mimetype": "text/x-python",
   "name": "python",
   "nbconvert_exporter": "python",
   "pygments_lexer": "ipython3",
   "version": "3.10.11"
  }
 },
 "nbformat": 4,
 "nbformat_minor": 1
}
