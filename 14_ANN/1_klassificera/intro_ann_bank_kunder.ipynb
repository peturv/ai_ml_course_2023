{
 "cells": [
  {
   "cell_type": "markdown",
   "metadata": {
    "colab_type": "text",
    "id": "lP6JLo1tGNBg"
   },
   "source": [
    "# Artificial Neural Network"
   ]
  },
  {
   "cell_type": "markdown",
   "metadata": {
    "colab_type": "text",
    "id": "gWZyYmS_UE_L"
   },
   "source": [
    "### Importing the libraries"
   ]
  },
  {
   "cell_type": "code",
   "execution_count": 1,
   "metadata": {
    "colab": {},
    "colab_type": "code",
    "id": "2NxqttOY3OEq",
    "ExecuteTime": {
     "end_time": "2023-10-30T17:27:52.132832Z",
     "start_time": "2023-10-30T17:27:49.606938Z"
    }
   },
   "outputs": [],
   "source": [
    "import numpy as np\n",
    "import pandas as pd\n",
    "import matplotlib.pyplot as plt"
   ]
  },
  {
   "cell_type": "code",
   "execution_count": 2,
   "metadata": {
    "colab": {},
    "colab_type": "code",
    "id": "jdUbR4kN3a9g",
    "ExecuteTime": {
     "end_time": "2023-10-30T17:27:56.255245Z",
     "start_time": "2023-10-30T17:27:53.266894Z"
    }
   },
   "outputs": [],
   "source": [
    "import tensorflow as tf"
   ]
  },
  {
   "cell_type": "code",
   "execution_count": 3,
   "metadata": {
    "colab": {
     "base_uri": "https://localhost:8080/",
     "height": 35
    },
    "colab_type": "code",
    "id": "qH5ATPiL3ssg",
    "outputId": "d34481b5-504b-4cb2-fd28-c35f3df93114",
    "ExecuteTime": {
     "end_time": "2023-10-30T17:27:57.057981Z",
     "start_time": "2023-10-30T17:27:57.033290Z"
    }
   },
   "outputs": [
    {
     "data": {
      "text/plain": "'2.14.0'"
     },
     "execution_count": 3,
     "metadata": {},
     "output_type": "execute_result"
    }
   ],
   "source": [
    "tf.__version__"
   ]
  },
  {
   "cell_type": "markdown",
   "metadata": {
    "colab_type": "text",
    "id": "1E0Q3aoKUCRX"
   },
   "source": [
    "## Part 1 - Data Preprocessing"
   ]
  },
  {
   "cell_type": "markdown",
   "metadata": {
    "colab_type": "text",
    "id": "cKWAkFVGUU0Z"
   },
   "source": [
    "### Importing the dataset"
   ]
  },
  {
   "cell_type": "code",
   "execution_count": 4,
   "metadata": {
    "colab": {},
    "colab_type": "code",
    "id": "FT46g1OR4KD4",
    "ExecuteTime": {
     "end_time": "2023-10-30T17:28:00.815716Z",
     "start_time": "2023-10-30T17:28:00.776854Z"
    }
   },
   "outputs": [],
   "source": [
    "dataset = pd.read_csv('Churn_Modelling.csv')"
   ]
  },
  {
   "cell_type": "code",
   "execution_count": 5,
   "metadata": {
    "colab": {},
    "colab_type": "code",
    "id": "7If4xE6h4n0O",
    "ExecuteTime": {
     "end_time": "2023-10-30T17:28:03.655636Z",
     "start_time": "2023-10-30T17:28:03.616297Z"
    }
   },
   "outputs": [
    {
     "data": {
      "text/plain": "   RowNumber  CustomerId   Surname  CreditScore Geography  Gender  Age  \\\n0          1    15634602  Hargrave          619    France  Female   42   \n1          2    15647311      Hill          608     Spain  Female   41   \n2          3    15619304      Onio          502    France  Female   42   \n3          4    15701354      Boni          699    France  Female   39   \n4          5    15737888  Mitchell          850     Spain  Female   43   \n\n   Tenure    Balance  NumOfProducts  HasCrCard  IsActiveMember  \\\n0       2       0.00              1          1               1   \n1       1   83807.86              1          0               1   \n2       8  159660.80              3          1               0   \n3       1       0.00              2          0               0   \n4       2  125510.82              1          1               1   \n\n   EstimatedSalary  Exited  \n0        101348.88       1  \n1        112542.58       0  \n2        113931.57       1  \n3         93826.63       0  \n4         79084.10       0  ",
      "text/html": "<div>\n<style scoped>\n    .dataframe tbody tr th:only-of-type {\n        vertical-align: middle;\n    }\n\n    .dataframe tbody tr th {\n        vertical-align: top;\n    }\n\n    .dataframe thead th {\n        text-align: right;\n    }\n</style>\n<table border=\"1\" class=\"dataframe\">\n  <thead>\n    <tr style=\"text-align: right;\">\n      <th></th>\n      <th>RowNumber</th>\n      <th>CustomerId</th>\n      <th>Surname</th>\n      <th>CreditScore</th>\n      <th>Geography</th>\n      <th>Gender</th>\n      <th>Age</th>\n      <th>Tenure</th>\n      <th>Balance</th>\n      <th>NumOfProducts</th>\n      <th>HasCrCard</th>\n      <th>IsActiveMember</th>\n      <th>EstimatedSalary</th>\n      <th>Exited</th>\n    </tr>\n  </thead>\n  <tbody>\n    <tr>\n      <th>0</th>\n      <td>1</td>\n      <td>15634602</td>\n      <td>Hargrave</td>\n      <td>619</td>\n      <td>France</td>\n      <td>Female</td>\n      <td>42</td>\n      <td>2</td>\n      <td>0.00</td>\n      <td>1</td>\n      <td>1</td>\n      <td>1</td>\n      <td>101348.88</td>\n      <td>1</td>\n    </tr>\n    <tr>\n      <th>1</th>\n      <td>2</td>\n      <td>15647311</td>\n      <td>Hill</td>\n      <td>608</td>\n      <td>Spain</td>\n      <td>Female</td>\n      <td>41</td>\n      <td>1</td>\n      <td>83807.86</td>\n      <td>1</td>\n      <td>0</td>\n      <td>1</td>\n      <td>112542.58</td>\n      <td>0</td>\n    </tr>\n    <tr>\n      <th>2</th>\n      <td>3</td>\n      <td>15619304</td>\n      <td>Onio</td>\n      <td>502</td>\n      <td>France</td>\n      <td>Female</td>\n      <td>42</td>\n      <td>8</td>\n      <td>159660.80</td>\n      <td>3</td>\n      <td>1</td>\n      <td>0</td>\n      <td>113931.57</td>\n      <td>1</td>\n    </tr>\n    <tr>\n      <th>3</th>\n      <td>4</td>\n      <td>15701354</td>\n      <td>Boni</td>\n      <td>699</td>\n      <td>France</td>\n      <td>Female</td>\n      <td>39</td>\n      <td>1</td>\n      <td>0.00</td>\n      <td>2</td>\n      <td>0</td>\n      <td>0</td>\n      <td>93826.63</td>\n      <td>0</td>\n    </tr>\n    <tr>\n      <th>4</th>\n      <td>5</td>\n      <td>15737888</td>\n      <td>Mitchell</td>\n      <td>850</td>\n      <td>Spain</td>\n      <td>Female</td>\n      <td>43</td>\n      <td>2</td>\n      <td>125510.82</td>\n      <td>1</td>\n      <td>1</td>\n      <td>1</td>\n      <td>79084.10</td>\n      <td>0</td>\n    </tr>\n  </tbody>\n</table>\n</div>"
     },
     "execution_count": 5,
     "metadata": {},
     "output_type": "execute_result"
    }
   ],
   "source": [
    "#dataset.head()"
   ]
  },
  {
   "cell_type": "code",
   "execution_count": 6,
   "metadata": {
    "colab": {},
    "colab_type": "code",
    "id": "Y3xpqqAj4RiV",
    "ExecuteTime": {
     "end_time": "2023-10-30T17:28:24.510307Z",
     "start_time": "2023-10-30T17:28:24.494502Z"
    }
   },
   "outputs": [],
   "source": [
    "X = dataset.iloc[:,3:-1].values\n",
    "y = dataset.iloc[:,-1].values"
   ]
  },
  {
   "cell_type": "code",
   "execution_count": 7,
   "metadata": {
    "colab": {
     "base_uri": "https://localhost:8080/",
     "height": 136
    },
    "colab_type": "code",
    "id": "5ABf87d-4_Ou",
    "outputId": "6fc8f9de-a88c-499d-86c9-397802f479ea",
    "ExecuteTime": {
     "end_time": "2023-10-30T17:28:25.872871Z",
     "start_time": "2023-10-30T17:28:25.864114Z"
    }
   },
   "outputs": [
    {
     "data": {
      "text/plain": "array([[619, 'France', 'Female', ..., 1, 1, 101348.88],\n       [608, 'Spain', 'Female', ..., 0, 1, 112542.58],\n       [502, 'France', 'Female', ..., 1, 0, 113931.57],\n       ...,\n       [709, 'France', 'Female', ..., 0, 1, 42085.58],\n       [772, 'Germany', 'Male', ..., 1, 0, 92888.52],\n       [792, 'France', 'Female', ..., 1, 0, 38190.78]], dtype=object)"
     },
     "execution_count": 7,
     "metadata": {},
     "output_type": "execute_result"
    }
   ],
   "source": [
    "X"
   ]
  },
  {
   "cell_type": "markdown",
   "metadata": {
    "colab_type": "text",
    "id": "N6bQ0UgSU-NJ"
   },
   "source": [
    "### Encoding categorical data"
   ]
  },
  {
   "cell_type": "markdown",
   "metadata": {
    "colab_type": "text",
    "id": "le5MJreAbW52"
   },
   "source": [
    "Label Encoding the \"Gender\" column"
   ]
  },
  {
   "cell_type": "code",
   "execution_count": 8,
   "metadata": {
    "colab": {
     "base_uri": "https://localhost:8080/",
     "height": 51
    },
    "colab_type": "code",
    "id": "69eNNTaV5zTt",
    "outputId": "c9c37ebf-5f67-4369-c2d4-67475da98167",
    "ExecuteTime": {
     "end_time": "2023-10-30T17:28:32.816179Z",
     "start_time": "2023-10-30T17:28:32.811660Z"
    }
   },
   "outputs": [
    {
     "data": {
      "text/plain": "array(['Female', 'Female', 'Female', ..., 'Female', 'Male', 'Female'],\n      dtype=object)"
     },
     "execution_count": 8,
     "metadata": {},
     "output_type": "execute_result"
    }
   ],
   "source": [
    "X[:,2]"
   ]
  },
  {
   "cell_type": "code",
   "execution_count": 9,
   "metadata": {
    "colab": {},
    "colab_type": "code",
    "id": "oBdPtGoO5iR-",
    "ExecuteTime": {
     "end_time": "2023-10-30T17:28:57.538852Z",
     "start_time": "2023-10-30T17:28:46.660048Z"
    }
   },
   "outputs": [],
   "source": [
    "from sklearn.preprocessing import LabelEncoder\n",
    "le = LabelEncoder()\n",
    "X[:,2] = le.fit_transform(X[:,2])"
   ]
  },
  {
   "cell_type": "code",
   "execution_count": 10,
   "metadata": {
    "colab": {
     "base_uri": "https://localhost:8080/",
     "height": 136
    },
    "colab_type": "code",
    "id": "qWWmoScE6DEW",
    "outputId": "194844c9-aae2-4dbe-96b5-566e842a018b",
    "ExecuteTime": {
     "end_time": "2023-10-30T17:28:59.517896Z",
     "start_time": "2023-10-30T17:28:59.511636Z"
    }
   },
   "outputs": [
    {
     "data": {
      "text/plain": "array([[619, 'France', 0, ..., 1, 1, 101348.88],\n       [608, 'Spain', 0, ..., 0, 1, 112542.58],\n       [502, 'France', 0, ..., 1, 0, 113931.57],\n       ...,\n       [709, 'France', 0, ..., 0, 1, 42085.58],\n       [772, 'Germany', 1, ..., 1, 0, 92888.52],\n       [792, 'France', 0, ..., 1, 0, 38190.78]], dtype=object)"
     },
     "execution_count": 10,
     "metadata": {},
     "output_type": "execute_result"
    }
   ],
   "source": [
    "X"
   ]
  },
  {
   "cell_type": "markdown",
   "metadata": {
    "colab_type": "text",
    "id": "CUxGZezpbMcb"
   },
   "source": [
    "One Hot Encoding the \"Geography\" column"
   ]
  },
  {
   "cell_type": "code",
   "execution_count": 11,
   "metadata": {
    "colab": {},
    "colab_type": "code",
    "id": "200frAk56OFi",
    "ExecuteTime": {
     "end_time": "2023-10-30T17:29:28.415523Z",
     "start_time": "2023-10-30T17:29:28.385307Z"
    }
   },
   "outputs": [],
   "source": [
    "from sklearn.compose import ColumnTransformer\n",
    "from sklearn.preprocessing import OneHotEncoder\n",
    "ct = ColumnTransformer(transformers=[('encoder', OneHotEncoder(),[1])], remainder='passthrough')\n",
    "X = np.array(ct.fit_transform(X))"
   ]
  },
  {
   "cell_type": "code",
   "execution_count": 12,
   "metadata": {
    "colab": {
     "base_uri": "https://localhost:8080/",
     "height": 136
    },
    "colab_type": "code",
    "id": "l-M4iU_t6qqL",
    "outputId": "33e6fefb-659d-44b0-cea9-7282f3d3400b",
    "ExecuteTime": {
     "end_time": "2023-10-30T17:29:30.201772Z",
     "start_time": "2023-10-30T17:29:30.190905Z"
    }
   },
   "outputs": [
    {
     "data": {
      "text/plain": "array([[1.0, 0.0, 0.0, ..., 1, 1, 101348.88],\n       [0.0, 0.0, 1.0, ..., 0, 1, 112542.58],\n       [1.0, 0.0, 0.0, ..., 1, 0, 113931.57],\n       ...,\n       [1.0, 0.0, 0.0, ..., 0, 1, 42085.58],\n       [0.0, 1.0, 0.0, ..., 1, 0, 92888.52],\n       [1.0, 0.0, 0.0, ..., 1, 0, 38190.78]], dtype=object)"
     },
     "execution_count": 12,
     "metadata": {},
     "output_type": "execute_result"
    }
   ],
   "source": [
    "X"
   ]
  },
  {
   "cell_type": "markdown",
   "metadata": {
    "colab_type": "text",
    "id": "vHol938cW8zd"
   },
   "source": [
    "### Splitting the dataset into the Training set and Test set"
   ]
  },
  {
   "cell_type": "code",
   "execution_count": 13,
   "metadata": {
    "colab": {},
    "colab_type": "code",
    "id": "XW6w3Xx06-ZW",
    "ExecuteTime": {
     "end_time": "2023-10-30T17:29:39.685830Z",
     "start_time": "2023-10-30T17:29:37.445545Z"
    }
   },
   "outputs": [],
   "source": [
    "from sklearn.model_selection import train_test_split\n",
    "X_train, X_test, y_train, y_test = train_test_split(X, y, test_size = 0.2, random_state = 0)"
   ]
  },
  {
   "cell_type": "code",
   "execution_count": 14,
   "metadata": {
    "colab": {
     "base_uri": "https://localhost:8080/",
     "height": 34
    },
    "colab_type": "code",
    "id": "rfMkXg_y7UAc",
    "outputId": "e3de2b6b-cc23-48f5-c091-a2bc47dac0bd",
    "ExecuteTime": {
     "end_time": "2023-10-30T17:29:49.064788Z",
     "start_time": "2023-10-30T17:29:49.057340Z"
    }
   },
   "outputs": [
    {
     "data": {
      "text/plain": "(2000,)"
     },
     "execution_count": 14,
     "metadata": {},
     "output_type": "execute_result"
    }
   ],
   "source": [
    "y_test.shape"
   ]
  },
  {
   "cell_type": "markdown",
   "metadata": {
    "colab_type": "text",
    "id": "jpZlIISn7xF8"
   },
   "source": [
    "Feature Scaling"
   ]
  },
  {
   "cell_type": "code",
   "execution_count": 15,
   "metadata": {
    "colab": {},
    "colab_type": "code",
    "id": "z3J3XVGy72Cc",
    "ExecuteTime": {
     "end_time": "2023-10-30T17:29:58.357077Z",
     "start_time": "2023-10-30T17:29:58.351574Z"
    }
   },
   "outputs": [],
   "source": [
    "from sklearn.preprocessing import StandardScaler\n",
    "sc = StandardScaler()"
   ]
  },
  {
   "cell_type": "code",
   "execution_count": 16,
   "metadata": {
    "colab": {},
    "colab_type": "code",
    "id": "QboFqjYx8I4Y",
    "ExecuteTime": {
     "end_time": "2023-10-30T17:30:00.197131Z",
     "start_time": "2023-10-30T17:30:00.187710Z"
    }
   },
   "outputs": [],
   "source": [
    "X_train = sc.fit_transform(X_train)\n",
    "X_test = sc.transform(X_test)"
   ]
  },
  {
   "cell_type": "code",
   "execution_count": 21,
   "metadata": {
    "colab": {
     "base_uri": "https://localhost:8080/",
     "height": 238
    },
    "colab_type": "code",
    "id": "Wbse2RaP8gAm",
    "outputId": "c53380ee-9527-43a9-eb37-543a63065d1a",
    "ExecuteTime": {
     "end_time": "2023-10-30T18:05:59.675805Z",
     "start_time": "2023-10-30T18:05:59.671201Z"
    }
   },
   "outputs": [
    {
     "data": {
      "text/plain": "(8000, 12)"
     },
     "execution_count": 21,
     "metadata": {},
     "output_type": "execute_result"
    }
   ],
   "source": [
    "X_train.shape"
   ]
  },
  {
   "cell_type": "markdown",
   "metadata": {
    "colab_type": "text",
    "id": "-zfEzkRVXIwF"
   },
   "source": [
    "## Part 2 - Building the ANN"
   ]
  },
  {
   "cell_type": "markdown",
   "metadata": {
    "colab_type": "text",
    "id": "KvdeScabXtlB"
   },
   "source": [
    "### Initializing the ANN"
   ]
  },
  {
   "cell_type": "code",
   "execution_count": 22,
   "metadata": {
    "colab": {},
    "colab_type": "code",
    "id": "FangqMfQCGFB",
    "ExecuteTime": {
     "end_time": "2023-10-30T18:06:03.242404Z",
     "start_time": "2023-10-30T18:06:03.232907Z"
    }
   },
   "outputs": [
    {
     "data": {
      "text/plain": "keras.src.engine.sequential.Sequential"
     },
     "execution_count": 22,
     "metadata": {},
     "output_type": "execute_result"
    }
   ],
   "source": [
    "ann = tf.keras.models.Sequential()\n",
    "type(ann)"
   ]
  },
  {
   "cell_type": "markdown",
   "metadata": {
    "colab_type": "text",
    "id": "rP6urV6SX7kS"
   },
   "source": [
    "### Adding the input layer and the first hidden layer"
   ]
  },
  {
   "cell_type": "code",
   "execution_count": 23,
   "metadata": {
    "colab": {},
    "colab_type": "code",
    "id": "JSr6r5RiDGJO",
    "ExecuteTime": {
     "end_time": "2023-10-30T18:18:56.961906Z",
     "start_time": "2023-10-30T18:18:56.959799Z"
    }
   },
   "outputs": [],
   "source": [
    "ann.add(tf.keras.layers.Dense(units=6, activation='relu'))"
   ]
  },
  {
   "cell_type": "markdown",
   "metadata": {
    "colab_type": "text",
    "id": "BELWAc_8YJze"
   },
   "source": [
    "### Adding the second hidden layer"
   ]
  },
  {
   "cell_type": "code",
   "execution_count": 24,
   "metadata": {
    "colab": {},
    "colab_type": "code",
    "id": "r4SJQL-mEdii",
    "ExecuteTime": {
     "end_time": "2023-10-30T18:18:59.148243Z",
     "start_time": "2023-10-30T18:18:59.139298Z"
    }
   },
   "outputs": [],
   "source": [
    "ann.add(tf.keras.layers.Dense(units=6, activation='relu'))"
   ]
  },
  {
   "cell_type": "markdown",
   "metadata": {
    "colab_type": "text",
    "id": "OyNEe6RXYcU4"
   },
   "source": [
    "### Adding the output layer"
   ]
  },
  {
   "cell_type": "code",
   "execution_count": 25,
   "metadata": {
    "colab": {},
    "colab_type": "code",
    "id": "GMyrAoQuEoGn",
    "ExecuteTime": {
     "end_time": "2023-10-30T18:19:01.099689Z",
     "start_time": "2023-10-30T18:19:01.093208Z"
    }
   },
   "outputs": [],
   "source": [
    "ann.add(tf.keras.layers.Dense(units=1, activation='sigmoid'))"
   ]
  },
  {
   "cell_type": "markdown",
   "metadata": {
    "colab_type": "text",
    "id": "JT4u2S1_Y4WG"
   },
   "source": [
    "## Training the ANN"
   ]
  },
  {
   "cell_type": "markdown",
   "metadata": {
    "colab_type": "text",
    "id": "8GWlJChhY_ZI"
   },
   "source": [
    "### Compiling the ANN"
   ]
  },
  {
   "cell_type": "code",
   "execution_count": 26,
   "metadata": {
    "colab": {},
    "colab_type": "code",
    "id": "CfwCC3_fFbNW",
    "ExecuteTime": {
     "end_time": "2023-10-30T18:19:04.391467Z",
     "start_time": "2023-10-30T18:19:04.378157Z"
    }
   },
   "outputs": [],
   "source": [
    "ann.compile(optimizer = 'adam', loss = 'binary_crossentropy', metrics = ['accuracy'])"
   ]
  },
  {
   "cell_type": "markdown",
   "metadata": {
    "colab_type": "text",
    "id": "0QR_G5u7ZLSM"
   },
   "source": [
    "### Training the ANN on the Training set"
   ]
  },
  {
   "cell_type": "code",
   "execution_count": 27,
   "metadata": {
    "colab": {
     "base_uri": "https://localhost:8080/",
     "height": 1000
    },
    "colab_type": "code",
    "id": "27FFAzvEHPpf",
    "outputId": "1e3bf28d-f402-411f-ff99-9122ce9e37de",
    "ExecuteTime": {
     "end_time": "2023-10-30T18:23:48.779901Z",
     "start_time": "2023-10-30T18:23:37.505250Z"
    }
   },
   "outputs": [
    {
     "name": "stdout",
     "output_type": "stream",
     "text": [
      "Epoch 1/100\n",
      "250/250 [==============================] - 0s 479us/step - loss: 0.5538 - accuracy: 0.7846\n",
      "Epoch 2/100\n",
      "250/250 [==============================] - 0s 435us/step - loss: 0.4554 - accuracy: 0.8081\n",
      "Epoch 3/100\n",
      "250/250 [==============================] - 0s 442us/step - loss: 0.4306 - accuracy: 0.8152\n",
      "Epoch 4/100\n",
      "250/250 [==============================] - 0s 448us/step - loss: 0.4200 - accuracy: 0.8176\n",
      "Epoch 5/100\n",
      "250/250 [==============================] - 0s 478us/step - loss: 0.4128 - accuracy: 0.8261\n",
      "Epoch 6/100\n",
      "250/250 [==============================] - 0s 488us/step - loss: 0.4069 - accuracy: 0.8271\n",
      "Epoch 7/100\n",
      "250/250 [==============================] - 0s 468us/step - loss: 0.4022 - accuracy: 0.8286\n",
      "Epoch 8/100\n",
      "250/250 [==============================] - 0s 435us/step - loss: 0.3983 - accuracy: 0.8306\n",
      "Epoch 9/100\n",
      "250/250 [==============================] - 0s 443us/step - loss: 0.3946 - accuracy: 0.8305\n",
      "Epoch 10/100\n",
      "250/250 [==============================] - 0s 450us/step - loss: 0.3914 - accuracy: 0.8319\n",
      "Epoch 11/100\n",
      "250/250 [==============================] - 0s 436us/step - loss: 0.3876 - accuracy: 0.8317\n",
      "Epoch 12/100\n",
      "250/250 [==============================] - 0s 434us/step - loss: 0.3843 - accuracy: 0.8322\n",
      "Epoch 13/100\n",
      "250/250 [==============================] - 0s 444us/step - loss: 0.3817 - accuracy: 0.8336\n",
      "Epoch 14/100\n",
      "250/250 [==============================] - 0s 434us/step - loss: 0.3784 - accuracy: 0.8341\n",
      "Epoch 15/100\n",
      "250/250 [==============================] - 0s 439us/step - loss: 0.3757 - accuracy: 0.8336\n",
      "Epoch 16/100\n",
      "250/250 [==============================] - 0s 452us/step - loss: 0.3730 - accuracy: 0.8340\n",
      "Epoch 17/100\n",
      "250/250 [==============================] - 0s 441us/step - loss: 0.3703 - accuracy: 0.8391\n",
      "Epoch 18/100\n",
      "250/250 [==============================] - 0s 430us/step - loss: 0.3681 - accuracy: 0.8429\n",
      "Epoch 19/100\n",
      "250/250 [==============================] - 0s 440us/step - loss: 0.3662 - accuracy: 0.8460\n",
      "Epoch 20/100\n",
      "250/250 [==============================] - 0s 424us/step - loss: 0.3643 - accuracy: 0.8472\n",
      "Epoch 21/100\n",
      "250/250 [==============================] - 0s 444us/step - loss: 0.3620 - accuracy: 0.8471\n",
      "Epoch 22/100\n",
      "250/250 [==============================] - 0s 448us/step - loss: 0.3610 - accuracy: 0.8487\n",
      "Epoch 23/100\n",
      "250/250 [==============================] - 0s 428us/step - loss: 0.3589 - accuracy: 0.8500\n",
      "Epoch 24/100\n",
      "250/250 [==============================] - 0s 434us/step - loss: 0.3580 - accuracy: 0.8506\n",
      "Epoch 25/100\n",
      "250/250 [==============================] - 0s 425us/step - loss: 0.3568 - accuracy: 0.8505\n",
      "Epoch 26/100\n",
      "250/250 [==============================] - 0s 432us/step - loss: 0.3553 - accuracy: 0.8522\n",
      "Epoch 27/100\n",
      "250/250 [==============================] - 0s 439us/step - loss: 0.3536 - accuracy: 0.8545\n",
      "Epoch 28/100\n",
      "250/250 [==============================] - 0s 433us/step - loss: 0.3526 - accuracy: 0.8541\n",
      "Epoch 29/100\n",
      "250/250 [==============================] - 0s 432us/step - loss: 0.3521 - accuracy: 0.8568\n",
      "Epoch 30/100\n",
      "250/250 [==============================] - 0s 423us/step - loss: 0.3509 - accuracy: 0.8551\n",
      "Epoch 31/100\n",
      "250/250 [==============================] - 0s 594us/step - loss: 0.3499 - accuracy: 0.8558\n",
      "Epoch 32/100\n",
      "250/250 [==============================] - 0s 420us/step - loss: 0.3485 - accuracy: 0.8574\n",
      "Epoch 33/100\n",
      "250/250 [==============================] - 0s 428us/step - loss: 0.3484 - accuracy: 0.8580\n",
      "Epoch 34/100\n",
      "250/250 [==============================] - 0s 436us/step - loss: 0.3471 - accuracy: 0.8583\n",
      "Epoch 35/100\n",
      "250/250 [==============================] - 0s 425us/step - loss: 0.3469 - accuracy: 0.8574\n",
      "Epoch 36/100\n",
      "250/250 [==============================] - 0s 435us/step - loss: 0.3460 - accuracy: 0.8599\n",
      "Epoch 37/100\n",
      "250/250 [==============================] - 0s 426us/step - loss: 0.3461 - accuracy: 0.8586\n",
      "Epoch 38/100\n",
      "250/250 [==============================] - 0s 430us/step - loss: 0.3451 - accuracy: 0.8596\n",
      "Epoch 39/100\n",
      "250/250 [==============================] - 0s 438us/step - loss: 0.3445 - accuracy: 0.8601\n",
      "Epoch 40/100\n",
      "250/250 [==============================] - 0s 465us/step - loss: 0.3447 - accuracy: 0.8602\n",
      "Epoch 41/100\n",
      "250/250 [==============================] - 0s 451us/step - loss: 0.3438 - accuracy: 0.8595\n",
      "Epoch 42/100\n",
      "250/250 [==============================] - 0s 441us/step - loss: 0.3437 - accuracy: 0.8595\n",
      "Epoch 43/100\n",
      "250/250 [==============================] - 0s 421us/step - loss: 0.3437 - accuracy: 0.8622\n",
      "Epoch 44/100\n",
      "250/250 [==============================] - 0s 432us/step - loss: 0.3433 - accuracy: 0.8608\n",
      "Epoch 45/100\n",
      "250/250 [==============================] - 0s 429us/step - loss: 0.3427 - accuracy: 0.8584\n",
      "Epoch 46/100\n",
      "250/250 [==============================] - 0s 435us/step - loss: 0.3427 - accuracy: 0.8605\n",
      "Epoch 47/100\n",
      "250/250 [==============================] - 0s 445us/step - loss: 0.3418 - accuracy: 0.8589\n",
      "Epoch 48/100\n",
      "250/250 [==============================] - 0s 425us/step - loss: 0.3419 - accuracy: 0.8596\n",
      "Epoch 49/100\n",
      "250/250 [==============================] - 0s 449us/step - loss: 0.3420 - accuracy: 0.8594\n",
      "Epoch 50/100\n",
      "250/250 [==============================] - 0s 443us/step - loss: 0.3411 - accuracy: 0.8600\n",
      "Epoch 51/100\n",
      "250/250 [==============================] - 0s 428us/step - loss: 0.3416 - accuracy: 0.8593\n",
      "Epoch 52/100\n",
      "250/250 [==============================] - 0s 434us/step - loss: 0.3413 - accuracy: 0.8600\n",
      "Epoch 53/100\n",
      "250/250 [==============================] - 0s 471us/step - loss: 0.3411 - accuracy: 0.8625\n",
      "Epoch 54/100\n",
      "250/250 [==============================] - 0s 435us/step - loss: 0.3406 - accuracy: 0.8612\n",
      "Epoch 55/100\n",
      "250/250 [==============================] - 0s 429us/step - loss: 0.3405 - accuracy: 0.8593\n",
      "Epoch 56/100\n",
      "250/250 [==============================] - 0s 440us/step - loss: 0.3406 - accuracy: 0.8596\n",
      "Epoch 57/100\n",
      "250/250 [==============================] - 0s 425us/step - loss: 0.3404 - accuracy: 0.8619\n",
      "Epoch 58/100\n",
      "250/250 [==============================] - 0s 436us/step - loss: 0.3408 - accuracy: 0.8594\n",
      "Epoch 59/100\n",
      "250/250 [==============================] - 0s 426us/step - loss: 0.3399 - accuracy: 0.8615\n",
      "Epoch 60/100\n",
      "250/250 [==============================] - 0s 426us/step - loss: 0.3399 - accuracy: 0.8625\n",
      "Epoch 61/100\n",
      "250/250 [==============================] - 0s 428us/step - loss: 0.3397 - accuracy: 0.8600\n",
      "Epoch 62/100\n",
      "250/250 [==============================] - 0s 427us/step - loss: 0.3396 - accuracy: 0.8600\n",
      "Epoch 63/100\n",
      "250/250 [==============================] - 0s 435us/step - loss: 0.3397 - accuracy: 0.8609\n",
      "Epoch 64/100\n",
      "250/250 [==============================] - 0s 427us/step - loss: 0.3392 - accuracy: 0.8614\n",
      "Epoch 65/100\n",
      "250/250 [==============================] - 0s 429us/step - loss: 0.3397 - accuracy: 0.8612\n",
      "Epoch 66/100\n",
      "250/250 [==============================] - 0s 433us/step - loss: 0.3394 - accuracy: 0.8590\n",
      "Epoch 67/100\n",
      "250/250 [==============================] - 0s 432us/step - loss: 0.3390 - accuracy: 0.8630\n",
      "Epoch 68/100\n",
      "250/250 [==============================] - 0s 428us/step - loss: 0.3400 - accuracy: 0.8602\n",
      "Epoch 69/100\n",
      "250/250 [==============================] - 0s 427us/step - loss: 0.3388 - accuracy: 0.8605\n",
      "Epoch 70/100\n",
      "250/250 [==============================] - 0s 434us/step - loss: 0.3385 - accuracy: 0.8616\n",
      "Epoch 71/100\n",
      "250/250 [==============================] - 0s 436us/step - loss: 0.3390 - accuracy: 0.8599\n",
      "Epoch 72/100\n",
      "250/250 [==============================] - 0s 444us/step - loss: 0.3391 - accuracy: 0.8608\n",
      "Epoch 73/100\n",
      "250/250 [==============================] - 0s 424us/step - loss: 0.3389 - accuracy: 0.8627\n",
      "Epoch 74/100\n",
      "250/250 [==============================] - 0s 423us/step - loss: 0.3386 - accuracy: 0.8611\n",
      "Epoch 75/100\n",
      "250/250 [==============================] - 0s 425us/step - loss: 0.3387 - accuracy: 0.8609\n",
      "Epoch 76/100\n",
      "250/250 [==============================] - 0s 431us/step - loss: 0.3386 - accuracy: 0.8611\n",
      "Epoch 77/100\n",
      "250/250 [==============================] - 0s 439us/step - loss: 0.3378 - accuracy: 0.8612\n",
      "Epoch 78/100\n",
      "250/250 [==============================] - 0s 427us/step - loss: 0.3390 - accuracy: 0.8596\n",
      "Epoch 79/100\n",
      "250/250 [==============================] - 0s 430us/step - loss: 0.3382 - accuracy: 0.8621\n",
      "Epoch 80/100\n",
      "250/250 [==============================] - 0s 428us/step - loss: 0.3379 - accuracy: 0.8622\n",
      "Epoch 81/100\n",
      "250/250 [==============================] - 0s 436us/step - loss: 0.3378 - accuracy: 0.8586\n",
      "Epoch 82/100\n",
      "250/250 [==============================] - 0s 428us/step - loss: 0.3376 - accuracy: 0.8605\n",
      "Epoch 83/100\n",
      "250/250 [==============================] - 0s 422us/step - loss: 0.3376 - accuracy: 0.8624\n",
      "Epoch 84/100\n",
      "250/250 [==============================] - 0s 427us/step - loss: 0.3372 - accuracy: 0.8618\n",
      "Epoch 85/100\n",
      "250/250 [==============================] - 0s 431us/step - loss: 0.3376 - accuracy: 0.8620\n",
      "Epoch 86/100\n",
      "250/250 [==============================] - 0s 425us/step - loss: 0.3376 - accuracy: 0.8605\n",
      "Epoch 87/100\n",
      "250/250 [==============================] - 0s 430us/step - loss: 0.3375 - accuracy: 0.8619\n",
      "Epoch 88/100\n",
      "250/250 [==============================] - 0s 432us/step - loss: 0.3369 - accuracy: 0.8618\n",
      "Epoch 89/100\n",
      "250/250 [==============================] - 0s 425us/step - loss: 0.3372 - accuracy: 0.8629\n",
      "Epoch 90/100\n",
      "250/250 [==============================] - 0s 440us/step - loss: 0.3372 - accuracy: 0.8605\n",
      "Epoch 91/100\n",
      "250/250 [==============================] - 0s 436us/step - loss: 0.3373 - accuracy: 0.8612\n",
      "Epoch 92/100\n",
      "250/250 [==============================] - 0s 429us/step - loss: 0.3373 - accuracy: 0.8619\n",
      "Epoch 93/100\n",
      "250/250 [==============================] - 0s 436us/step - loss: 0.3368 - accuracy: 0.8616\n",
      "Epoch 94/100\n",
      "250/250 [==============================] - 0s 437us/step - loss: 0.3373 - accuracy: 0.8624\n",
      "Epoch 95/100\n",
      "250/250 [==============================] - 0s 442us/step - loss: 0.3367 - accuracy: 0.8614\n",
      "Epoch 96/100\n",
      "250/250 [==============================] - 0s 421us/step - loss: 0.3365 - accuracy: 0.8635\n",
      "Epoch 97/100\n",
      "250/250 [==============================] - 0s 424us/step - loss: 0.3366 - accuracy: 0.8621\n",
      "Epoch 98/100\n",
      "250/250 [==============================] - 0s 425us/step - loss: 0.3364 - accuracy: 0.8634\n",
      "Epoch 99/100\n",
      "250/250 [==============================] - 0s 429us/step - loss: 0.3366 - accuracy: 0.8646\n",
      "Epoch 100/100\n",
      "250/250 [==============================] - 0s 431us/step - loss: 0.3367 - accuracy: 0.8627\n"
     ]
    },
    {
     "data": {
      "text/plain": "<keras.src.callbacks.History at 0x2a0a6d250>"
     },
     "execution_count": 27,
     "metadata": {},
     "output_type": "execute_result"
    }
   ],
   "source": [
    "ann.fit(X_train, y_train, batch_size = 32, epochs = 100)"
   ]
  },
  {
   "cell_type": "markdown",
   "metadata": {
    "colab_type": "text",
    "id": "tJj5k2MxZga3"
   },
   "source": [
    "## Part 4 - Making the predictions and evaluating the model"
   ]
  },
  {
   "cell_type": "markdown",
   "metadata": {
    "colab_type": "text",
    "id": "u7yx47jPZt11"
   },
   "source": [
    "### Predicting the Test set results"
   ]
  },
  {
   "cell_type": "code",
   "execution_count": 43,
   "outputs": [
    {
     "name": "stdout",
     "output_type": "stream",
     "text": [
      "63/63 [==============================] - 0s 390us/step\n"
     ]
    }
   ],
   "source": [
    "y_pred = ann.predict(X_test)"
   ],
   "metadata": {
    "collapsed": false,
    "ExecuteTime": {
     "end_time": "2023-10-30T18:37:58.830117Z",
     "start_time": "2023-10-30T18:37:58.762113Z"
    }
   }
  },
  {
   "cell_type": "code",
   "execution_count": 29,
   "outputs": [
    {
     "data": {
      "text/plain": "array([[0.21452235],\n       [0.24088405],\n       [0.1327343 ],\n       ...,\n       [0.11566151],\n       [0.20636252],\n       [0.22279981]], dtype=float32)"
     },
     "execution_count": 29,
     "metadata": {},
     "output_type": "execute_result"
    }
   ],
   "source": [
    "y_pred"
   ],
   "metadata": {
    "collapsed": false,
    "ExecuteTime": {
     "end_time": "2023-10-30T18:28:57.360677Z",
     "start_time": "2023-10-30T18:28:57.349392Z"
    }
   }
  },
  {
   "cell_type": "code",
   "execution_count": 44,
   "outputs": [],
   "source": [
    "y_pred = (y_pred > 0.5)"
   ],
   "metadata": {
    "collapsed": false,
    "ExecuteTime": {
     "end_time": "2023-10-30T18:38:01.097286Z",
     "start_time": "2023-10-30T18:38:01.092974Z"
    }
   }
  },
  {
   "cell_type": "code",
   "execution_count": 32,
   "outputs": [
    {
     "name": "stdout",
     "output_type": "stream",
     "text": [
      "[[0 0]\n",
      " [0 1]\n",
      " [0 0]\n",
      " ...\n",
      " [0 0]\n",
      " [0 0]\n",
      " [0 0]]\n"
     ]
    }
   ],
   "source": [
    "print(np.concatenate((y_pred.reshape(len(y_pred),1), y_test.reshape(len(y_test),1)),1)) # Basis for matrix"
   ],
   "metadata": {
    "collapsed": false,
    "ExecuteTime": {
     "end_time": "2023-10-30T18:32:50.566340Z",
     "start_time": "2023-10-30T18:32:50.558327Z"
    }
   }
  },
  {
   "cell_type": "markdown",
   "metadata": {
    "colab_type": "text",
    "id": "o0oyfLWoaEGw"
   },
   "source": [
    "### Making the Confusion Matrix"
   ]
  },
  {
   "cell_type": "code",
   "execution_count": 45,
   "metadata": {
    "colab": {},
    "colab_type": "code",
    "id": "7GUaXphl2s7g",
    "ExecuteTime": {
     "end_time": "2023-10-30T18:38:04.331921Z",
     "start_time": "2023-10-30T18:38:04.326247Z"
    }
   },
   "outputs": [
    {
     "name": "stdout",
     "output_type": "stream",
     "text": [
      "[[1514   81]\n",
      " [ 193  212]]\n"
     ]
    }
   ],
   "source": [
    "from sklearn.metrics import confusion_matrix, accuracy_score\n",
    "cm = confusion_matrix(y_test, y_pred)\n",
    "print(cm)"
   ]
  },
  {
   "cell_type": "code",
   "execution_count": 46,
   "outputs": [
    {
     "data": {
      "text/plain": "0.863"
     },
     "execution_count": 46,
     "metadata": {},
     "output_type": "execute_result"
    }
   ],
   "source": [
    "accuracy_score(y_test, y_pred)"
   ],
   "metadata": {
    "collapsed": false,
    "ExecuteTime": {
     "end_time": "2023-10-30T18:38:05.292972Z",
     "start_time": "2023-10-30T18:38:05.287245Z"
    }
   }
  },
  {
   "cell_type": "markdown",
   "source": [
    "Use our ANN model to predict if the customer with the following informations will leave the bank:\n",
    " \n",
    "Geography: France\n",
    " \n",
    "Credit Score: 600\n",
    " \n",
    "Gender: Male\n",
    " \n",
    "Age: 40 years old\n",
    " \n",
    "Tenure: 3 years\n",
    " \n",
    "Balance: $ 60000\n",
    " \n",
    "Number of Products: 2\n",
    " \n",
    "Does this customer have a credit card? Yes\n",
    " \n",
    "Is this customer an Active Member: Yes\n",
    " \n",
    "Estimated Salary: $ 50000\n",
    " \n",
    "So, should we say goodbye to that customer?"
   ],
   "metadata": {
    "collapsed": false
   }
  },
  {
   "cell_type": "code",
   "execution_count": null,
   "outputs": [],
   "source": [
    "# Insert values, remember the one-hot encoding of Geography\n",
    "# The one hot encoded columns are placed furthest to the left, \n",
    "# and the Geography column disappears. Female / Male is \n",
    "# encoded to 0 / 1"
   ],
   "metadata": {
    "collapsed": false
   }
  },
  {
   "cell_type": "code",
   "execution_count": 47,
   "outputs": [
    {
     "name": "stdout",
     "output_type": "stream",
     "text": [
      "1/1 [==============================] - 0s 10ms/step\n"
     ]
    },
    {
     "data": {
      "text/plain": "array([[0.02661874]], dtype=float32)"
     },
     "execution_count": 47,
     "metadata": {},
     "output_type": "execute_result"
    }
   ],
   "source": [
    "evaluationTarget = sc.transform([[1,0,0,600,1,40,3,60000,2,1,1,50000]])\n",
    "ann.predict(evaluationTarget)"
   ],
   "metadata": {
    "collapsed": false,
    "ExecuteTime": {
     "end_time": "2023-10-30T19:07:28.534027Z",
     "start_time": "2023-10-30T19:07:28.502263Z"
    }
   }
  },
  {
   "cell_type": "code",
   "execution_count": 48,
   "outputs": [
    {
     "name": "stdout",
     "output_type": "stream",
     "text": [
      "1/1 [==============================] - 0s 8ms/step\n"
     ]
    },
    {
     "data": {
      "text/plain": "array([[False]])"
     },
     "execution_count": 48,
     "metadata": {},
     "output_type": "execute_result"
    }
   ],
   "source": [
    "ann.predict(evaluationTarget) > 0.5"
   ],
   "metadata": {
    "collapsed": false,
    "ExecuteTime": {
     "end_time": "2023-10-30T19:09:02.720040Z",
     "start_time": "2023-10-30T19:09:02.688829Z"
    }
   }
  },
  {
   "cell_type": "code",
   "execution_count": null,
   "outputs": [],
   "source": [],
   "metadata": {
    "collapsed": false
   }
  }
 ],
 "metadata": {
  "colab": {
   "collapsed_sections": [],
   "name": "intro-ann-bank-kunder.ipynb",
   "provenance": [],
   "toc_visible": true
  },
  "kernelspec": {
   "display_name": "Python 3 (ipykernel)",
   "language": "python",
   "name": "python3"
  },
  "language_info": {
   "codemirror_mode": {
    "name": "ipython",
    "version": 3
   },
   "file_extension": ".py",
   "mimetype": "text/x-python",
   "name": "python",
   "nbconvert_exporter": "python",
   "pygments_lexer": "ipython3",
   "version": "3.10.11"
  }
 },
 "nbformat": 4,
 "nbformat_minor": 1
}
