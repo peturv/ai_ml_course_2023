{
 "cells": [
  {
   "cell_type": "code",
   "execution_count": 3,
   "id": "initial_id",
   "metadata": {
    "collapsed": true,
    "ExecuteTime": {
     "end_time": "2023-11-07T19:07:25.570475Z",
     "start_time": "2023-11-07T19:07:25.565085Z"
    }
   },
   "outputs": [],
   "source": [
    "def capture_video(output_path: str):\n",
    "    import cv2\n",
    "    cap = cv2.VideoCapture(0)\n",
    "    width = int(cap.get(cv2.CAP_PROP_FRAME_WIDTH))\n",
    "    height = int(cap.get(cv2.CAP_PROP_FRAME_HEIGHT))\n",
    "    writer = cv2.VideoWriter(output_path, cv2.VideoWriter_fourcc(*'VIDX'), 20, (width, height))\n",
    "    \n",
    "    while True:\n",
    "        ret, frame = cap.read()\n",
    "        if ret:\n",
    "            writer.write(frame)\n",
    "            cv2.imshow('frame', frame)\n",
    "            if cv2.waitKey(1) & 0xFF == 27:\n",
    "                break\n",
    "        else:\n",
    "            break\n",
    "    cap.release()\n",
    "    writer.release()\n",
    "    cv2.destroyAllWindows()"
   ]
  },
  {
   "cell_type": "code",
   "execution_count": 5,
   "outputs": [
    {
     "name": "stdout",
     "output_type": "stream",
     "text": [
      "Directory  /Users/petur /.deepface created\n",
      "Directory  /Users/petur /.deepface/weights created\n"
     ]
    }
   ],
   "source": [
    "from deepface import DeepFace"
   ],
   "metadata": {
    "collapsed": false,
    "ExecuteTime": {
     "end_time": "2023-11-07T19:19:16.602929Z",
     "start_time": "2023-11-07T19:18:53.554832Z"
    }
   },
   "id": "b83889d14cdc6b4e"
  },
  {
   "cell_type": "code",
   "execution_count": 6,
   "outputs": [
    {
     "ename": "TypeError",
     "evalue": "Can't convert object to 'str' for 'filename'",
     "output_type": "error",
     "traceback": [
      "\u001B[0;31m---------------------------------------------------------------------------\u001B[0m",
      "\u001B[0;31mTypeError\u001B[0m                                 Traceback (most recent call last)",
      "Cell \u001B[0;32mIn[6], line 10\u001B[0m\n\u001B[1;32m      8\u001B[0m cap \u001B[38;5;241m=\u001B[39m cv2\u001B[38;5;241m.\u001B[39mVideoCapture(\u001B[38;5;124m\"\u001B[39m\u001B[38;5;124memotion/pexels-mikhail-nilov-6706798 (1080p).mp4\u001B[39m\u001B[38;5;124m\"\u001B[39m)\n\u001B[1;32m      9\u001B[0m ret, frame \u001B[38;5;241m=\u001B[39m cap\u001B[38;5;241m.\u001B[39mread()\n\u001B[0;32m---> 10\u001B[0m \u001B[43mface_recognition\u001B[49m\u001B[43m(\u001B[49m\u001B[43mframe\u001B[49m\u001B[43m)\u001B[49m\n\u001B[1;32m     11\u001B[0m cap\u001B[38;5;241m.\u001B[39mrelease()\n",
      "Cell \u001B[0;32mIn[6], line 3\u001B[0m, in \u001B[0;36mface_recognition\u001B[0;34m(img)\u001B[0m\n\u001B[1;32m      1\u001B[0m \u001B[38;5;28;01mdef\u001B[39;00m \u001B[38;5;21mface_recognition\u001B[39m(img):\n\u001B[1;32m      2\u001B[0m     \u001B[38;5;28;01mimport\u001B[39;00m \u001B[38;5;21;01mcv2\u001B[39;00m\n\u001B[0;32m----> 3\u001B[0m     img \u001B[38;5;241m=\u001B[39m \u001B[43mcv2\u001B[49m\u001B[38;5;241;43m.\u001B[39;49m\u001B[43mimread\u001B[49m\u001B[43m(\u001B[49m\u001B[43mimg\u001B[49m\u001B[43m)\u001B[49m\n\u001B[1;32m      4\u001B[0m     result \u001B[38;5;241m=\u001B[39m DeepFace\u001B[38;5;241m.\u001B[39manalyze(img, actions\u001B[38;5;241m=\u001B[39m(\u001B[38;5;124m\"\u001B[39m\u001B[38;5;124memotion\u001B[39m\u001B[38;5;124m\"\u001B[39m, ))\n\u001B[1;32m      5\u001B[0m     \u001B[38;5;28;01mreturn\u001B[39;00m result\n",
      "\u001B[0;31mTypeError\u001B[0m: Can't convert object to 'str' for 'filename'"
     ]
    }
   ],
   "source": [
    "def face_recognition(img):\n",
    "    import cv2\n",
    "    img2 = cv2.imread(img)\n",
    "    result = DeepFace.analyze(img2, actions=(\"emotion\", ))\n",
    "    return result\n",
    "\n",
    "import cv2\n",
    "cap = cv2.VideoCapture(\"emotion/pexels-mikhail-nilov-6706798 (1080p).mp4\")\n",
    "ret, frame = cap.read()\n",
    "face_recognition(frame)\n",
    "cap.release()"
   ],
   "metadata": {
    "collapsed": false,
    "ExecuteTime": {
     "end_time": "2023-11-07T19:25:47.063442Z",
     "start_time": "2023-11-07T19:25:46.891779Z"
    }
   },
   "id": "420639cb716fcc76"
  },
  {
   "cell_type": "code",
   "execution_count": 17,
   "outputs": [],
   "source": [
    "def show_image(image, title:str=None):\n",
    "    import cv2 as cv\n",
    "    import matplotlib.pyplot as plt\n",
    "    %matplotlib inline\n",
    "    plt.imshow(cv.cvtColor(image, cv.COLOR_BGR2RGB))\n",
    "    if title is not None:\n",
    "        plt.title(title)\n",
    "    plt.show()"
   ],
   "metadata": {
    "collapsed": false,
    "ExecuteTime": {
     "end_time": "2023-11-07T19:41:03.418828Z",
     "start_time": "2023-11-07T19:41:03.408538Z"
    }
   },
   "id": "91fbf0e8d3e73136"
  },
  {
   "cell_type": "code",
   "execution_count": 26,
   "outputs": [],
   "source": [
    "import cv2\n",
    "import numpy as np\n",
    "\n",
    "cap = cv2.VideoCapture(\"emotion/pexels-mikhail-nilov-6706798 (1080p).mp4\")\n",
    "cascade = cv2.CascadeClassifier(cv2.data.haarcascades + \"haarcascade_frontalface_default.xml\")\n",
    "# List to save managed frames\n",
    "frame_list = list()\n",
    "\n",
    "for i in range(10):\n",
    "    r, frame_source = cap.read()\n",
    "    frame = cv2.cvtColor(frame_source, cv2.COLOR_BGR2GRAY)\n",
    "    face = cascade.detectMultiScale(frame, 1.1, 4)\n",
    "    if np.any(face):\n",
    "        for (x, y, w, h) in face:\n",
    "            emotion = DeepFace.analyze(frame_source, actions=(\"emotion\", ), silent=True)\n",
    "            text = f\"Emotion is {emotion[0]['dominant_emotion']}\"\n",
    "            cv2.putText(frame_source, text, (x, y-10), cv2.FONT_HERSHEY_SIMPLEX, 0.9, (36, 255, 12), 2)\n",
    "            cv2.rectangle(frame_source, (x, y), (x+w, y+h), (0, 255, 0), 2)\n",
    "            frame_list.append(frame_source)\n",
    "\n",
    "output_path = \"./emotion/output_10s.mp4\"\n",
    "width = int(cap.get(cv2.CAP_PROP_FRAME_WIDTH))\n",
    "height = int(cap.get(cv2.CAP_PROP_FRAME_HEIGHT))\n",
    "writer = cv2.VideoWriter(output_path, cv2.VideoWriter_fourcc(*'mp4v'), 20, (width, height))\n",
    "\n",
    "for frame in frame_list:\n",
    "    writer.write(frame)\n",
    "\n",
    "cap.release()\n",
    "writer.release()"
   ],
   "metadata": {
    "collapsed": false,
    "ExecuteTime": {
     "end_time": "2023-11-07T19:56:15.716392Z",
     "start_time": "2023-11-07T19:56:14.600784Z"
    }
   },
   "id": "b5d1542b124a3059"
  },
  {
   "cell_type": "code",
   "execution_count": 27,
   "outputs": [],
   "source": [
    "import cv2\n",
    "import numpy as np\n",
    "\n",
    "cap = cv2.VideoCapture(\"emotion/pexels-mikhail-nilov-6706798 (1080p).mp4\")\n",
    "cascade = cv2.CascadeClassifier(cv2.data.haarcascades + \"haarcascade_frontalface_default.xml\")\n",
    "\n",
    "output_path = \"./emotion/output_full.mp4\"\n",
    "width = int(cap.get(cv2.CAP_PROP_FRAME_WIDTH))\n",
    "height = int(cap.get(cv2.CAP_PROP_FRAME_HEIGHT))\n",
    "writer = cv2.VideoWriter(output_path, cv2.VideoWriter_fourcc(*'mp4v'), 20, (width, height))\n",
    "\n",
    "# Does whole video. Takes some time and memory\n",
    "r, frame_source = cap.read()\n",
    "while r is not False:    \n",
    "    frame = cv2.cvtColor(frame_source, cv2.COLOR_BGR2GRAY)\n",
    "    face = cascade.detectMultiScale(frame, 1.1, 4)\n",
    "    if np.any(face):\n",
    "        for (x, y, w, h) in face:\n",
    "            emotion = DeepFace.analyze(frame_source, actions=(\"emotion\", ), silent=True)\n",
    "            text = f\"Emotion is {emotion[0]['dominant_emotion']}\"\n",
    "            cv2.putText(frame_source, text, (x, y-10), cv2.FONT_HERSHEY_SIMPLEX, 0.9, (36, 255, 12), 2)\n",
    "            cv2.rectangle(frame_source, (x, y), (x+w, y+h), (0, 255, 0), 2)\n",
    "            writer.write(frame_source)\n",
    "    r, frame_source = cap.read()\n",
    "\n",
    "cap.release()\n",
    "writer.release()"
   ],
   "metadata": {
    "collapsed": false,
    "ExecuteTime": {
     "end_time": "2023-11-07T19:57:17.722372Z",
     "start_time": "2023-11-07T19:56:18.370236Z"
    }
   },
   "id": "3eb3d77de30710e9"
  },
  {
   "cell_type": "code",
   "execution_count": null,
   "outputs": [],
   "source": [],
   "metadata": {
    "collapsed": false
   },
   "id": "a4857fadf9892b47"
  }
 ],
 "metadata": {
  "kernelspec": {
   "display_name": "Python 3",
   "language": "python",
   "name": "python3"
  },
  "language_info": {
   "codemirror_mode": {
    "name": "ipython",
    "version": 2
   },
   "file_extension": ".py",
   "mimetype": "text/x-python",
   "name": "python",
   "nbconvert_exporter": "python",
   "pygments_lexer": "ipython2",
   "version": "2.7.6"
  }
 },
 "nbformat": 4,
 "nbformat_minor": 5
}
