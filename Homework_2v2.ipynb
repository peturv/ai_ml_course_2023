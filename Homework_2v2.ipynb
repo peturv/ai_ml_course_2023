{
  "nbformat": 4,
  "nbformat_minor": 0,
  "metadata": {
    "colab": {
      "provenance": [],
      "toc_visible": true,
      "authorship_tag": "ABX9TyPg7bgQinL5j/dLcnrUdNFy"
    },
    "kernelspec": {
      "name": "python3",
      "display_name": "Python 3"
    },
    "language_info": {
      "name": "python"
    }
  },
  "cells": [
    {
      "cell_type": "markdown",
      "source": [
        "#1\n",
        "Write python function get_list() , that read 10 numbers from the user using built-in function called input() and return a list."
      ],
      "metadata": {
        "id": "2qWxR54pI0Qr"
      }
    },
    {
      "cell_type": "markdown",
      "source": [],
      "metadata": {
        "id": "PkcXjcqxI2dB"
      }
    },
    {
      "cell_type": "code",
      "execution_count": null,
      "metadata": {
        "id": "89dA_NKsIuvC"
      },
      "outputs": [],
      "source": [
        "def get_list(size: int):\n",
        "    result = list()\n",
        "    candidate = \"\"\n",
        "    while len(result) < size:\n",
        "        try:\n",
        "            candidate = input(\"Number please: \")\n",
        "            result.append(int(candidate))\n",
        "        except:\n",
        "            print(\"\\\"{}\\\" isn't a number!\".format(candidate))\n",
        "    return result\n",
        "# print(get_list(3))"
      ]
    },
    {
      "cell_type": "markdown",
      "source": [
        "#2\n",
        "Write python function sum_list(my_list) that take a list of numbers as an argument and return float as sum of all elements in the list."
      ],
      "metadata": {
        "id": "wEvGPBPnIzzU"
      }
    },
    {
      "cell_type": "code",
      "source": [
        "def sum_list(my_list):\n",
        "    if not all(str(i).isdigit() for i in my_list):\n",
        "        raise ValueError('List contains non-integers.')\n",
        "    return float(sum(my_list))\n",
        "print(sum_list([1,2,3]))"
      ],
      "metadata": {
        "colab": {
          "base_uri": "https://localhost:8080/"
        },
        "id": "lV4uKdo8LrAF",
        "outputId": "cb446158-d124-4702-f7a7-2a0420cbf7c9"
      },
      "execution_count": null,
      "outputs": [
        {
          "output_type": "stream",
          "name": "stdout",
          "text": [
            "6.0\n"
          ]
        }
      ]
    },
    {
      "cell_type": "markdown",
      "source": [
        "#3\n",
        "Write Python function mul_list(my_list) that take a list of numbers as an argument and return float as multiplication of all elements in the list."
      ],
      "metadata": {
        "id": "azyMe32IJfMN"
      }
    },
    {
      "cell_type": "code",
      "source": [
        "from functools import reduce\n",
        "\n",
        "def mul_list(my_list):\n",
        "    if not all(str(i).isdigit() for i in my_list):\n",
        "        raise ValueError('List contains non-integers.')\n",
        "    return float(reduce(lambda first,second: first * second, my_list))\n",
        "\n",
        "print(mul_list([1,2,3,4]))"
      ],
      "metadata": {
        "colab": {
          "base_uri": "https://localhost:8080/"
        },
        "id": "Hn0zidjcM5aD",
        "outputId": "aaaaa450-fab2-4438-f4f2-8160fad090eb"
      },
      "execution_count": null,
      "outputs": [
        {
          "output_type": "stream",
          "name": "stdout",
          "text": [
            "24\n"
          ]
        }
      ]
    },
    {
      "cell_type": "markdown",
      "source": [
        "#4\n",
        "Write Python function mean_list(my_list) that take a list of numbers as an argument and return float as mean value of all elements in the list."
      ],
      "metadata": {
        "id": "KCfmqKsgJiXM"
      }
    },
    {
      "cell_type": "code",
      "source": [
        "import statistics\n",
        "\n",
        "def mean_list(my_list):\n",
        "    if not all(str(i).isdigit() for i in my_list):\n",
        "        raise ValueError('List contains non-integers.')\n",
        "    return float(statistics.mean(my_list))\n",
        "\n",
        "print(mean_list([1,2,3,4]))"
      ],
      "metadata": {
        "colab": {
          "base_uri": "https://localhost:8080/"
        },
        "id": "ba7B8QDfOKOO",
        "outputId": "15626b3f-992b-4062-aef2-6bf94dccf6c5"
      },
      "execution_count": null,
      "outputs": [
        {
          "output_type": "stream",
          "name": "stdout",
          "text": [
            "2.5\n"
          ]
        }
      ]
    },
    {
      "cell_type": "markdown",
      "source": [
        "#5\n",
        "Create function called my_list_calc() that call:\n",
        "\n",
        "a)  get_list() and get the output/return in variable users_list[].\n",
        "\n",
        "b) sum_list(users_list) To Print sum of users’ list using print() built-in\n",
        "function.\n",
        "\n",
        "c) mul_list(user_list) To Print multiplication of users’ list using print() built-in function.\n",
        "\n",
        "d) Mean_list(user_list) To Print mean vlaue of users’ list using print() built-in function."
      ],
      "metadata": {
        "id": "-f7I1uymJkwD"
      }
    },
    {
      "cell_type": "code",
      "source": [
        "def my_list_calc(size: int):\n",
        "    users_list = get_list(size)\n",
        "    print(sum_list(users_list))\n",
        "    print(mul_list(users_list))\n",
        "    print(mean_list(users_list))\n",
        "my_list_calc(5)"
      ],
      "metadata": {
        "colab": {
          "base_uri": "https://localhost:8080/"
        },
        "id": "A-IlOWBSOywJ",
        "outputId": "e2c2a6fa-a294-4fa7-f54e-0e15c534eed8"
      },
      "execution_count": null,
      "outputs": [
        {
          "output_type": "stream",
          "name": "stdout",
          "text": [
            "Number please: 1\n",
            "Number please: 3\n",
            "Number please: 5\n",
            "Number please: g\n",
            "\"g\" isn't a number!\n",
            "Number please: 7\n",
            "Number please: 9\n",
            "25.0\n",
            "945\n",
            "5.0\n"
          ]
        }
      ]
    },
    {
      "cell_type": "markdown",
      "source": [
        "#6\n",
        "Upgrade my_list_calc_r() by adding :\n",
        "e) return tuple of 3 values first is the sum of the list, the second is multiplication of the list ,and third the mean value."
      ],
      "metadata": {
        "id": "9LCY5obmJpgR"
      }
    },
    {
      "cell_type": "code",
      "source": [
        "def my_list_calc_r(size: int):\n",
        "    users_list = get_list(size)\n",
        "    return (sum_list(users_list), mul_list(users_list), mean_list(users_list))\n",
        "sum_value, *rest_value = my_list_calc_r(5)\n",
        "print(\"Sum: {}, multiplication: {}, mean: {}\".format(sum_value, rest_value[0], rest_value[1]))"
      ],
      "metadata": {
        "colab": {
          "base_uri": "https://localhost:8080/"
        },
        "id": "82CorjY0PaA7",
        "outputId": "cfeb807a-b5da-4a28-aaf6-854c49fbf4bf"
      },
      "execution_count": null,
      "outputs": [
        {
          "output_type": "stream",
          "name": "stdout",
          "text": [
            "Number please: 1\n",
            "Number please: 3\n",
            "Number please: 5\n",
            "Number please: 7\n",
            "Number please: 9\n",
            "Sum: 25.0, multiplication: 945, mean: 5.0\n"
          ]
        }
      ]
    },
    {
      "cell_type": "markdown",
      "source": [
        "# Part 2\n",
        "Paper, Rock, Scissors"
      ],
      "metadata": {
        "id": "TjMgFJysQJTc"
      }
    },
    {
      "cell_type": "code",
      "source": [
        "\n",
        "class PaRoSe:\n",
        "    player1: str\n",
        "    player2: str\n",
        "    rounds: int\n",
        "    scores = [\n",
        "        [(0,0),(1,0),(0,1)],\n",
        "        [(0,1),(0,0),(1,0)],\n",
        "        [(1,0),(0,1),(0,0)]\n",
        "    ]\n",
        "    def __init__(self, rounds:int = 10):\n",
        "        if rounds < 1:\n",
        "            raise ValueError('Rounds needs to be a positive integer larger than 0')\n",
        "        self.rounds = rounds\n",
        "\n",
        "    def game_on(self):\n",
        "        # Strictly for purpose of the excercise\n",
        "        self.player1, self.player2 = self.get_player()\n",
        "        self.game_logic(self.player1, self.player2)\n",
        "\n",
        "    def get_player(self):\n",
        "        return (input(\"Enter player one: \"), input(\"Enter player two: \"))\n",
        "\n",
        "    def your_turn(self, player):\n",
        "        match input(\"Your turn {}: \".format(player)):\n",
        "            case \"1\":\n",
        "                return 1 # Scissors\n",
        "            case \"2\":\n",
        "                return 2 # Paper\n",
        "            case _:\n",
        "                return 0 # Rock\n",
        "\n",
        "    def calculate_outcome(self, a: int, b: int):\n",
        "        return self.scores[a][b]\n",
        "\n",
        "    def game_logic(self, p1_name, p2_name):\n",
        "        player1_score = [0 for i in range(0,self.rounds)]\n",
        "        player2_score = [0 for i in range(0,self.rounds)]\n",
        "        print(\"Type \\n0: Rock, \\n1: Scissors, \\n2: Paper.\")\n",
        "        for i in range(0,self.rounds):\n",
        "            player1_score[i], player2_score[i] = self.calculate_outcome(\n",
        "                self.your_turn(p1_name),\n",
        "                self.your_turn(p2_name)\n",
        "            )\n",
        "\n",
        "        end_score = sum(player1_score) - sum_list(player2_score)\n",
        "\n",
        "        winner = \"Everyone\"\n",
        "        if end_score < 0:\n",
        "            winner = p2_name\n",
        "        elif end_score > 0:\n",
        "            winner = p1_name\n",
        "\n",
        "        print(\"{} wins!\".format(winner))\n",
        "        return\n",
        "\n",
        "lets_get_this = PaRoSe(2)\n",
        "lets_get_this.game_on()"
      ],
      "metadata": {
        "colab": {
          "base_uri": "https://localhost:8080/"
        },
        "id": "lP3EEqGjQNar",
        "outputId": "6c152954-ba24-4984-810e-f443d9e1bfdf"
      },
      "execution_count": null,
      "outputs": [
        {
          "output_type": "stream",
          "name": "stdout",
          "text": [
            "Enter player one: First\n",
            "Enter player two: Second\n",
            "Type \n",
            "0: Rock, \n",
            "1: Scissors, \n",
            "2: Paper.\n",
            "Your turn First: 0\n",
            "Your turn Second: 1\n",
            "Your turn First: 2\n",
            "Your turn Second: 1\n",
            "Everyone wins!\n"
          ]
        }
      ]
    }
  ]
}