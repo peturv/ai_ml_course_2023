{
 "cells": [
  {
   "cell_type": "markdown",
   "metadata": {
    "colab_type": "text",
    "id": "m3PAEPRDRLA3"
   },
   "source": [
    "# XGBoost\n"
   ]
  },
  {
   "cell_type": "markdown",
   "metadata": {
    "colab_type": "text",
    "id": "0VCUAVIjRdzZ"
   },
   "source": [
    "## Importing the libraries"
   ]
  },
  {
   "cell_type": "code",
   "execution_count": 1,
   "metadata": {
    "colab": {},
    "colab_type": "code",
    "id": "56oRF-QfSDzC",
    "ExecuteTime": {
     "end_time": "2023-10-17T18:40:08.606306Z",
     "start_time": "2023-10-17T18:40:07.187810Z"
    }
   },
   "outputs": [],
   "source": [
    "import numpy as np\n",
    "import matplotlib.pyplot as plt\n",
    "import pandas as pd\n",
    "import xgboost as xgb"
   ]
  },
  {
   "cell_type": "code",
   "execution_count": 2,
   "metadata": {
    "ExecuteTime": {
     "end_time": "2023-10-17T18:40:08.946460Z",
     "start_time": "2023-10-17T18:40:08.933851Z"
    }
   },
   "outputs": [
    {
     "data": {
      "text/plain": "'2.1.1'"
     },
     "execution_count": 2,
     "metadata": {},
     "output_type": "execute_result"
    }
   ],
   "source": [
    "# metoden .__version__ returnerar det importerade bibliotekets verion\n",
    "pd.__version__"
   ]
  },
  {
   "cell_type": "markdown",
   "metadata": {
    "colab_type": "text",
    "id": "fXVXoFWtSF4_"
   },
   "source": [
    "## Importing the dataset"
   ]
  },
  {
   "cell_type": "code",
   "execution_count": 3,
   "metadata": {
    "colab": {},
    "colab_type": "code",
    "id": "xfoa8OSORfHQ",
    "ExecuteTime": {
     "end_time": "2023-10-17T18:40:10.896877Z",
     "start_time": "2023-10-17T18:40:10.884824Z"
    }
   },
   "outputs": [],
   "source": [
    "dataset = pd.read_csv('Position_Salaries.csv')\n",
    "X = dataset.iloc[:,1:-1].values\n",
    "y = dataset.iloc[:, -1].values"
   ]
  },
  {
   "cell_type": "code",
   "execution_count": 4,
   "metadata": {
    "ExecuteTime": {
     "end_time": "2023-10-17T18:40:11.713814Z",
     "start_time": "2023-10-17T18:40:11.704615Z"
    }
   },
   "outputs": [
    {
     "data": {
      "text/plain": "(10, 1)"
     },
     "execution_count": 4,
     "metadata": {},
     "output_type": "execute_result"
    }
   ],
   "source": [
    "X.shape"
   ]
  },
  {
   "cell_type": "code",
   "execution_count": 5,
   "metadata": {
    "ExecuteTime": {
     "end_time": "2023-10-17T18:40:21.825367Z",
     "start_time": "2023-10-17T18:40:21.814086Z"
    }
   },
   "outputs": [
    {
     "data": {
      "text/plain": "array([[ 1],\n       [ 2],\n       [ 3],\n       [ 4],\n       [ 5],\n       [ 6],\n       [ 7],\n       [ 8],\n       [ 9],\n       [10]])"
     },
     "execution_count": 5,
     "metadata": {},
     "output_type": "execute_result"
    }
   ],
   "source": [
    "X"
   ]
  },
  {
   "cell_type": "code",
   "execution_count": 6,
   "metadata": {
    "ExecuteTime": {
     "end_time": "2023-10-17T18:40:22.866863Z",
     "start_time": "2023-10-17T18:40:22.860342Z"
    }
   },
   "outputs": [
    {
     "data": {
      "text/plain": "(10,)"
     },
     "execution_count": 6,
     "metadata": {},
     "output_type": "execute_result"
    }
   ],
   "source": [
    "y.shape"
   ]
  },
  {
   "cell_type": "code",
   "execution_count": 7,
   "metadata": {
    "ExecuteTime": {
     "end_time": "2023-10-17T18:40:24.140120Z",
     "start_time": "2023-10-17T18:40:24.133Z"
    }
   },
   "outputs": [
    {
     "data": {
      "text/plain": "array([  45000,   50000,   60000,   80000,  110000,  150000,  200000,\n        300000,  500000, 1000000])"
     },
     "execution_count": 7,
     "metadata": {},
     "output_type": "execute_result"
    }
   ],
   "source": [
    "y"
   ]
  },
  {
   "cell_type": "code",
   "execution_count": 8,
   "metadata": {
    "ExecuteTime": {
     "end_time": "2023-10-17T18:40:24.844371Z",
     "start_time": "2023-10-17T18:40:24.840533Z"
    }
   },
   "outputs": [],
   "source": [
    "# omvandla formatet på y för att passa som input till StandardScaler.fit_transform(X)\n",
    "y=y.reshape(len(y),1)\n"
   ]
  },
  {
   "cell_type": "code",
   "execution_count": 9,
   "metadata": {
    "ExecuteTime": {
     "end_time": "2023-10-17T18:40:25.679961Z",
     "start_time": "2023-10-17T18:40:25.672759Z"
    }
   },
   "outputs": [
    {
     "data": {
      "text/plain": "array([[  45000],\n       [  50000],\n       [  60000],\n       [  80000],\n       [ 110000],\n       [ 150000],\n       [ 200000],\n       [ 300000],\n       [ 500000],\n       [1000000]])"
     },
     "execution_count": 9,
     "metadata": {},
     "output_type": "execute_result"
    }
   ],
   "source": [
    "y"
   ]
  },
  {
   "cell_type": "code",
   "execution_count": 10,
   "metadata": {
    "ExecuteTime": {
     "end_time": "2023-10-17T18:40:26.580614Z",
     "start_time": "2023-10-17T18:40:26.402223Z"
    }
   },
   "outputs": [
    {
     "data": {
      "text/plain": "<Figure size 640x480 with 1 Axes>",
      "image/png": "[encoded data removed]"
     },
     "metadata": {},
     "output_type": "display_data"
    }
   ],
   "source": [
    "plt.scatter(X, y, color = 'g')\n",
    "plt.show()"
   ]
  },
  {
   "cell_type": "markdown",
   "source": [
    "## Splitting the dataset into the Training set and Test set"
   ],
   "metadata": {
    "collapsed": false
   }
  },
  {
   "cell_type": "code",
   "execution_count": 20,
   "outputs": [],
   "source": [
    "from sklearn.model_selection import train_test_split\n",
    "X_train, X_test, y_train, y_test = train_test_split(X, y, test_size = 0.2, random_state = 0)"
   ],
   "metadata": {
    "collapsed": false,
    "ExecuteTime": {
     "end_time": "2023-10-17T18:42:40.888081Z",
     "start_time": "2023-10-17T18:42:40.872071Z"
    }
   }
  },
  {
   "cell_type": "markdown",
   "metadata": {
    "colab_type": "text",
    "id": "YS8FeLHYS-nI"
   },
   "source": [
    "## Feature Scaling"
   ]
  },
  {
   "cell_type": "code",
   "execution_count": 21,
   "metadata": {
    "ExecuteTime": {
     "end_time": "2023-10-17T18:42:42.337302Z",
     "start_time": "2023-10-17T18:42:42.326679Z"
    }
   },
   "outputs": [],
   "source": [
    "# Vi vill göra skalning både på X och y. Instantiera därför två\n",
    "# separata objekt av StandardScaler, t.ex sc_X och sc_y\n",
    "# Vi har bara EN kolumn i X och EN i y\n",
    "# Skala om X och y\n",
    "# Visa dem i en plot"
   ]
  },
  {
   "cell_type": "code",
   "execution_count": 22,
   "metadata": {
    "ExecuteTime": {
     "end_time": "2023-10-17T18:42:43.232299Z",
     "start_time": "2023-10-17T18:42:43.226727Z"
    }
   },
   "outputs": [],
   "source": [
    "from sklearn.preprocessing import StandardScaler"
   ]
  },
  {
   "cell_type": "code",
   "execution_count": 23,
   "metadata": {
    "ExecuteTime": {
     "end_time": "2023-10-17T18:42:43.590616Z",
     "start_time": "2023-10-17T18:42:43.586167Z"
    }
   },
   "outputs": [],
   "source": [
    "sc_X = StandardScaler()\n",
    "sc_y = StandardScaler()"
   ]
  },
  {
   "cell_type": "code",
   "execution_count": 24,
   "metadata": {
    "ExecuteTime": {
     "end_time": "2023-10-17T18:42:44.455329Z",
     "start_time": "2023-10-17T18:42:44.442463Z"
    }
   },
   "outputs": [],
   "source": [
    "X_train = sc_X.fit_transform(X_train)"
   ]
  },
  {
   "cell_type": "code",
   "execution_count": 25,
   "metadata": {
    "ExecuteTime": {
     "end_time": "2023-10-17T18:42:45.861444Z",
     "start_time": "2023-10-17T18:42:45.857519Z"
    }
   },
   "outputs": [],
   "source": [
    "y_train = sc_y.fit_transform(y_train)"
   ]
  },
  {
   "cell_type": "code",
   "execution_count": 26,
   "metadata": {
    "ExecuteTime": {
     "end_time": "2023-10-17T18:42:51.806917Z",
     "start_time": "2023-10-17T18:42:51.794601Z"
    }
   },
   "outputs": [
    {
     "data": {
      "text/plain": "(8, 1)"
     },
     "execution_count": 26,
     "metadata": {},
     "output_type": "execute_result"
    }
   ],
   "source": [
    "X_train.shape"
   ]
  },
  {
   "cell_type": "code",
   "execution_count": 27,
   "metadata": {
    "ExecuteTime": {
     "end_time": "2023-10-17T18:42:55.165164Z",
     "start_time": "2023-10-17T18:42:55.152223Z"
    }
   },
   "outputs": [
    {
     "data": {
      "text/plain": "(8, 1)"
     },
     "execution_count": 27,
     "metadata": {},
     "output_type": "execute_result"
    }
   ],
   "source": [
    "y_train.shape"
   ]
  },
  {
   "cell_type": "code",
   "execution_count": 28,
   "metadata": {
    "ExecuteTime": {
     "end_time": "2023-10-17T18:43:04.320190Z",
     "start_time": "2023-10-17T18:43:04.261129Z"
    }
   },
   "outputs": [
    {
     "data": {
      "text/plain": "<Figure size 640x480 with 1 Axes>",
      "image/png": "[encoded data removed]"
     },
     "metadata": {},
     "output_type": "display_data"
    }
   ],
   "source": [
    "plt.scatter(X_train, y_train, color = 'gold')\n",
    "plt.show()"
   ]
  },
  {
   "cell_type": "markdown",
   "metadata": {
    "colab_type": "text",
    "id": "eiU6D2QFRjxY"
   },
   "source": [
    "## Training the XGBoost model on the whole dataset"
   ]
  },
  {
   "cell_type": "code",
   "execution_count": 29,
   "metadata": {
    "ExecuteTime": {
     "end_time": "2023-10-17T18:43:08.841272Z",
     "start_time": "2023-10-17T18:43:08.826082Z"
    }
   },
   "outputs": [],
   "source": [
    "# Dessa nya X och y ska användas i klassen XGB, som vi instantierar som en regressor\n",
    "# Ni måste Googla i Scikit-learn på XGBoost hur man importerar den\n"
   ]
  },
  {
   "cell_type": "code",
   "execution_count": 30,
   "metadata": {
    "ExecuteTime": {
     "end_time": "2023-10-17T18:43:11.550477Z",
     "start_time": "2023-10-17T18:43:11.412375Z"
    }
   },
   "outputs": [
    {
     "name": "stdout",
     "output_type": "stream",
     "text": [
      "[0]\tvalidation_0-rmse:0.83570\tvalidation_1-rmse:0.71256\n",
      "[1]\tvalidation_0-rmse:0.70100\tvalidation_1-rmse:0.65977\n",
      "[2]\tvalidation_0-rmse:0.58956\tvalidation_1-rmse:0.62163\n",
      "[3]\tvalidation_0-rmse:0.49680\tvalidation_1-rmse:0.59225\n",
      "[4]\tvalidation_0-rmse:0.41944\tvalidation_1-rmse:0.57047\n",
      "[5]\tvalidation_0-rmse:0.35458\tvalidation_1-rmse:0.55404\n",
      "[6]\tvalidation_0-rmse:0.30000\tvalidation_1-rmse:0.54090\n",
      "[7]\tvalidation_0-rmse:0.25397\tvalidation_1-rmse:0.53068\n",
      "[8]\tvalidation_0-rmse:0.21510\tvalidation_1-rmse:0.52264\n",
      "[9]\tvalidation_0-rmse:0.18227\tvalidation_1-rmse:0.51624\n",
      "[10]\tvalidation_0-rmse:0.15451\tvalidation_1-rmse:0.51108\n",
      "[11]\tvalidation_0-rmse:0.13103\tvalidation_1-rmse:0.50689\n",
      "[12]\tvalidation_0-rmse:0.11116\tvalidation_1-rmse:0.50344\n",
      "[13]\tvalidation_0-rmse:0.09433\tvalidation_1-rmse:0.50060\n",
      "[14]\tvalidation_0-rmse:0.08007\tvalidation_1-rmse:0.49824\n",
      "[15]\tvalidation_0-rmse:0.06800\tvalidation_1-rmse:0.49626\n",
      "[16]\tvalidation_0-rmse:0.05777\tvalidation_1-rmse:0.49461\n",
      "[17]\tvalidation_0-rmse:0.04908\tvalidation_1-rmse:0.49327\n",
      "[18]\tvalidation_0-rmse:0.04171\tvalidation_1-rmse:0.49213\n",
      "[19]\tvalidation_0-rmse:0.03545\tvalidation_1-rmse:0.49117\n",
      "[20]\tvalidation_0-rmse:0.03013\tvalidation_1-rmse:0.49032\n",
      "[21]\tvalidation_0-rmse:0.02561\tvalidation_1-rmse:0.48963\n",
      "[22]\tvalidation_0-rmse:0.02177\tvalidation_1-rmse:0.48904\n",
      "[23]\tvalidation_0-rmse:0.01851\tvalidation_1-rmse:0.48854\n",
      "[24]\tvalidation_0-rmse:0.01573\tvalidation_1-rmse:0.48812\n",
      "[25]\tvalidation_0-rmse:0.01337\tvalidation_1-rmse:0.48776\n",
      "[26]\tvalidation_0-rmse:0.01137\tvalidation_1-rmse:0.48746\n",
      "[27]\tvalidation_0-rmse:0.00966\tvalidation_1-rmse:0.48719\n",
      "[28]\tvalidation_0-rmse:0.00822\tvalidation_1-rmse:0.48700\n",
      "[29]\tvalidation_0-rmse:0.00699\tvalidation_1-rmse:0.48681\n",
      "[30]\tvalidation_0-rmse:0.00594\tvalidation_1-rmse:0.48665\n",
      "[31]\tvalidation_0-rmse:0.00506\tvalidation_1-rmse:0.48662\n",
      "[32]\tvalidation_0-rmse:0.00431\tvalidation_1-rmse:0.48655\n",
      "[33]\tvalidation_0-rmse:0.00367\tvalidation_1-rmse:0.48653\n",
      "[34]\tvalidation_0-rmse:0.00313\tvalidation_1-rmse:0.48651\n",
      "[35]\tvalidation_0-rmse:0.00266\tvalidation_1-rmse:0.48642\n",
      "[36]\tvalidation_0-rmse:0.00229\tvalidation_1-rmse:0.48644\n",
      "[37]\tvalidation_0-rmse:0.00197\tvalidation_1-rmse:0.48645\n",
      "[38]\tvalidation_0-rmse:0.00170\tvalidation_1-rmse:0.48646\n",
      "[39]\tvalidation_0-rmse:0.00148\tvalidation_1-rmse:0.48607\n",
      "[40]\tvalidation_0-rmse:0.00128\tvalidation_1-rmse:0.48608\n",
      "[41]\tvalidation_0-rmse:0.00112\tvalidation_1-rmse:0.48609\n",
      "[42]\tvalidation_0-rmse:0.00099\tvalidation_1-rmse:0.48610\n",
      "[43]\tvalidation_0-rmse:0.00088\tvalidation_1-rmse:0.48589\n",
      "[44]\tvalidation_0-rmse:0.00078\tvalidation_1-rmse:0.48589\n",
      "[45]\tvalidation_0-rmse:0.00071\tvalidation_1-rmse:0.48590\n",
      "[46]\tvalidation_0-rmse:0.00064\tvalidation_1-rmse:0.48584\n",
      "[47]\tvalidation_0-rmse:0.00063\tvalidation_1-rmse:0.48582\n",
      "[48]\tvalidation_0-rmse:0.00057\tvalidation_1-rmse:0.48584\n",
      "[49]\tvalidation_0-rmse:0.00057\tvalidation_1-rmse:0.48582\n",
      "[50]\tvalidation_0-rmse:0.00057\tvalidation_1-rmse:0.48581\n",
      "[51]\tvalidation_0-rmse:0.00057\tvalidation_1-rmse:0.48580\n",
      "[52]\tvalidation_0-rmse:0.00057\tvalidation_1-rmse:0.48580\n",
      "[53]\tvalidation_0-rmse:0.00057\tvalidation_1-rmse:0.48579\n",
      "[54]\tvalidation_0-rmse:0.00057\tvalidation_1-rmse:0.48579\n",
      "[55]\tvalidation_0-rmse:0.00056\tvalidation_1-rmse:0.48579\n",
      "[56]\tvalidation_0-rmse:0.00056\tvalidation_1-rmse:0.48579\n",
      "[57]\tvalidation_0-rmse:0.00056\tvalidation_1-rmse:0.48578\n",
      "[58]\tvalidation_0-rmse:0.00056\tvalidation_1-rmse:0.48578\n",
      "[59]\tvalidation_0-rmse:0.00056\tvalidation_1-rmse:0.48578\n",
      "[60]\tvalidation_0-rmse:0.00056\tvalidation_1-rmse:0.48578\n",
      "[61]\tvalidation_0-rmse:0.00056\tvalidation_1-rmse:0.48578\n",
      "[62]\tvalidation_0-rmse:0.00056\tvalidation_1-rmse:0.48578\n",
      "[63]\tvalidation_0-rmse:0.00056\tvalidation_1-rmse:0.48578\n",
      "[64]\tvalidation_0-rmse:0.00056\tvalidation_1-rmse:0.48578\n",
      "[65]\tvalidation_0-rmse:0.00056\tvalidation_1-rmse:0.48578\n",
      "[66]\tvalidation_0-rmse:0.00056\tvalidation_1-rmse:0.48578\n",
      "[67]\tvalidation_0-rmse:0.00056\tvalidation_1-rmse:0.48578\n",
      "[68]\tvalidation_0-rmse:0.00056\tvalidation_1-rmse:0.48578\n",
      "[69]\tvalidation_0-rmse:0.00056\tvalidation_1-rmse:0.48578\n",
      "[70]\tvalidation_0-rmse:0.00056\tvalidation_1-rmse:0.48578\n",
      "[71]\tvalidation_0-rmse:0.00056\tvalidation_1-rmse:0.48578\n",
      "[72]\tvalidation_0-rmse:0.00056\tvalidation_1-rmse:0.48578\n",
      "[73]\tvalidation_0-rmse:0.00056\tvalidation_1-rmse:0.48578\n",
      "[74]\tvalidation_0-rmse:0.00056\tvalidation_1-rmse:0.48578\n",
      "[75]\tvalidation_0-rmse:0.00056\tvalidation_1-rmse:0.48578\n",
      "[76]\tvalidation_0-rmse:0.00056\tvalidation_1-rmse:0.48578\n",
      "[77]\tvalidation_0-rmse:0.00056\tvalidation_1-rmse:0.48578\n",
      "[78]\tvalidation_0-rmse:0.00056\tvalidation_1-rmse:0.48578\n",
      "[79]\tvalidation_0-rmse:0.00056\tvalidation_1-rmse:0.48578\n",
      "[80]\tvalidation_0-rmse:0.00056\tvalidation_1-rmse:0.48578\n",
      "[81]\tvalidation_0-rmse:0.00056\tvalidation_1-rmse:0.48578\n",
      "[82]\tvalidation_0-rmse:0.00056\tvalidation_1-rmse:0.48578\n",
      "[83]\tvalidation_0-rmse:0.00056\tvalidation_1-rmse:0.48578\n",
      "[84]\tvalidation_0-rmse:0.00056\tvalidation_1-rmse:0.48578\n",
      "[85]\tvalidation_0-rmse:0.00056\tvalidation_1-rmse:0.48578\n",
      "[86]\tvalidation_0-rmse:0.00056\tvalidation_1-rmse:0.48578\n",
      "[87]\tvalidation_0-rmse:0.00056\tvalidation_1-rmse:0.48578\n",
      "[88]\tvalidation_0-rmse:0.00056\tvalidation_1-rmse:0.48578\n",
      "[89]\tvalidation_0-rmse:0.00056\tvalidation_1-rmse:0.48578\n",
      "[90]\tvalidation_0-rmse:0.00056\tvalidation_1-rmse:0.48578\n",
      "[91]\tvalidation_0-rmse:0.00056\tvalidation_1-rmse:0.48578\n",
      "[92]\tvalidation_0-rmse:0.00056\tvalidation_1-rmse:0.48578\n",
      "[93]\tvalidation_0-rmse:0.00056\tvalidation_1-rmse:0.48578\n",
      "[94]\tvalidation_0-rmse:0.00056\tvalidation_1-rmse:0.48578\n",
      "[95]\tvalidation_0-rmse:0.00056\tvalidation_1-rmse:0.48578\n",
      "[96]\tvalidation_0-rmse:0.00056\tvalidation_1-rmse:0.48578\n",
      "[97]\tvalidation_0-rmse:0.00056\tvalidation_1-rmse:0.48578\n",
      "[98]\tvalidation_0-rmse:0.00056\tvalidation_1-rmse:0.48578\n",
      "[99]\tvalidation_0-rmse:0.00056\tvalidation_1-rmse:0.48578\n"
     ]
    },
    {
     "data": {
      "text/plain": "XGBRegressor(base_score=None, booster=None, callbacks=None,\n             colsample_bylevel=None, colsample_bynode=None,\n             colsample_bytree=None, device=None, early_stopping_rounds=None,\n             enable_categorical=False, eval_metric=None, feature_types=None,\n             gamma=None, grow_policy=None, importance_type=None,\n             interaction_constraints=None, learning_rate=None, max_bin=None,\n             max_cat_threshold=None, max_cat_to_onehot=None,\n             max_delta_step=None, max_depth=None, max_leaves=None,\n             min_child_weight=None, missing=nan, monotone_constraints=None,\n             multi_strategy=None, n_estimators=None, n_jobs=None,\n             num_parallel_tree=None, random_state=None, ...)",
      "text/html": "<style>#sk-container-id-1 {color: black;}#sk-container-id-1 pre{padding: 0;}#sk-container-id-1 div.sk-toggleable {background-color: white;}#sk-container-id-1 label.sk-toggleable__label {cursor: pointer;display: block;width: 100%;margin-bottom: 0;padding: 0.3em;box-sizing: border-box;text-align: center;}#sk-container-id-1 label.sk-toggleable__label-arrow:before {content: \"▸\";float: left;margin-right: 0.25em;color: #696969;}#sk-container-id-1 label.sk-toggleable__label-arrow:hover:before {color: black;}#sk-container-id-1 div.sk-estimator:hover label.sk-toggleable__label-arrow:before {color: black;}#sk-container-id-1 div.sk-toggleable__content {max-height: 0;max-width: 0;overflow: hidden;text-align: left;background-color: #f0f8ff;}#sk-container-id-1 div.sk-toggleable__content pre {margin: 0.2em;color: black;border-radius: 0.25em;background-color: #f0f8ff;}#sk-container-id-1 input.sk-toggleable__control:checked~div.sk-toggleable__content {max-height: 200px;max-width: 100%;overflow: auto;}#sk-container-id-1 input.sk-toggleable__control:checked~label.sk-toggleable__label-arrow:before {content: \"▾\";}#sk-container-id-1 div.sk-estimator input.sk-toggleable__control:checked~label.sk-toggleable__label {background-color: #d4ebff;}#sk-container-id-1 div.sk-label input.sk-toggleable__control:checked~label.sk-toggleable__label {background-color: #d4ebff;}#sk-container-id-1 input.sk-hidden--visually {border: 0;clip: rect(1px 1px 1px 1px);clip: rect(1px, 1px, 1px, 1px);height: 1px;margin: -1px;overflow: hidden;padding: 0;position: absolute;width: 1px;}#sk-container-id-1 div.sk-estimator {font-family: monospace;background-color: #f0f8ff;border: 1px dotted black;border-radius: 0.25em;box-sizing: border-box;margin-bottom: 0.5em;}#sk-container-id-1 div.sk-estimator:hover {background-color: #d4ebff;}#sk-container-id-1 div.sk-parallel-item::after {content: \"\";width: 100%;border-bottom: 1px solid gray;flex-grow: 1;}#sk-container-id-1 div.sk-label:hover label.sk-toggleable__label {background-color: #d4ebff;}#sk-container-id-1 div.sk-serial::before {content: \"\";position: absolute;border-left: 1px solid gray;box-sizing: border-box;top: 0;bottom: 0;left: 50%;z-index: 0;}#sk-container-id-1 div.sk-serial {display: flex;flex-direction: column;align-items: center;background-color: white;padding-right: 0.2em;padding-left: 0.2em;position: relative;}#sk-container-id-1 div.sk-item {position: relative;z-index: 1;}#sk-container-id-1 div.sk-parallel {display: flex;align-items: stretch;justify-content: center;background-color: white;position: relative;}#sk-container-id-1 div.sk-item::before, #sk-container-id-1 div.sk-parallel-item::before {content: \"\";position: absolute;border-left: 1px solid gray;box-sizing: border-box;top: 0;bottom: 0;left: 50%;z-index: -1;}#sk-container-id-1 div.sk-parallel-item {display: flex;flex-direction: column;z-index: 1;position: relative;background-color: white;}#sk-container-id-1 div.sk-parallel-item:first-child::after {align-self: flex-end;width: 50%;}#sk-container-id-1 div.sk-parallel-item:last-child::after {align-self: flex-start;width: 50%;}#sk-container-id-1 div.sk-parallel-item:only-child::after {width: 0;}#sk-container-id-1 div.sk-dashed-wrapped {border: 1px dashed gray;margin: 0 0.4em 0.5em 0.4em;box-sizing: border-box;padding-bottom: 0.4em;background-color: white;}#sk-container-id-1 div.sk-label label {font-family: monospace;font-weight: bold;display: inline-block;line-height: 1.2em;}#sk-container-id-1 div.sk-label-container {text-align: center;}#sk-container-id-1 div.sk-container {/* jupyter's `normalize.less` sets `[hidden] { display: none; }` but bootstrap.min.css set `[hidden] { display: none !important; }` so we also need the `!important` here to be able to override the default hidden behavior on the sphinx rendered scikit-learn.org. See: https://github.com/scikit-learn/scikit-learn/issues/21755 */display: inline-block !important;position: relative;}#sk-container-id-1 div.sk-text-repr-fallback {display: none;}</style><div id=\"sk-container-id-1\" class=\"sk-top-container\"><div class=\"sk-text-repr-fallback\"><pre>XGBRegressor(base_score=None, booster=None, callbacks=None,\n             colsample_bylevel=None, colsample_bynode=None,\n             colsample_bytree=None, device=None, early_stopping_rounds=None,\n             enable_categorical=False, eval_metric=None, feature_types=None,\n             gamma=None, grow_policy=None, importance_type=None,\n             interaction_constraints=None, learning_rate=None, max_bin=None,\n             max_cat_threshold=None, max_cat_to_onehot=None,\n             max_delta_step=None, max_depth=None, max_leaves=None,\n             min_child_weight=None, missing=nan, monotone_constraints=None,\n             multi_strategy=None, n_estimators=None, n_jobs=None,\n             num_parallel_tree=None, random_state=None, ...)</pre><b>In a Jupyter environment, please rerun this cell to show the HTML representation or trust the notebook. <br />On GitHub, the HTML representation is unable to render, please try loading this page with nbviewer.org.</b></div><div class=\"sk-container\" hidden><div class=\"sk-item\"><div class=\"sk-estimator sk-toggleable\"><input class=\"sk-toggleable__control sk-hidden--visually\" id=\"sk-estimator-id-1\" type=\"checkbox\" checked><label for=\"sk-estimator-id-1\" class=\"sk-toggleable__label sk-toggleable__label-arrow\">XGBRegressor</label><div class=\"sk-toggleable__content\"><pre>XGBRegressor(base_score=None, booster=None, callbacks=None,\n             colsample_bylevel=None, colsample_bynode=None,\n             colsample_bytree=None, device=None, early_stopping_rounds=None,\n             enable_categorical=False, eval_metric=None, feature_types=None,\n             gamma=None, grow_policy=None, importance_type=None,\n             interaction_constraints=None, learning_rate=None, max_bin=None,\n             max_cat_threshold=None, max_cat_to_onehot=None,\n             max_delta_step=None, max_depth=None, max_leaves=None,\n             min_child_weight=None, missing=nan, monotone_constraints=None,\n             multi_strategy=None, n_estimators=None, n_jobs=None,\n             num_parallel_tree=None, random_state=None, ...)</pre></div></div></div></div></div>"
     },
     "execution_count": 30,
     "metadata": {},
     "output_type": "execute_result"
    }
   ],
   "source": [
    "import xgboost as xgb\n",
    "regressor = xgb.XGBRegressor()\n",
    "#regressor = xgb.XGBRegressor(n_estimators=1000, max_depth=7, eta=0.1, subsample=0.7, colsample_bytree=0.8)\n",
    "regressor.fit(X_train,y_train, eval_set = [(X_train, y_train), (X_test, y_test)])"
   ]
  },
  {
   "cell_type": "markdown",
   "metadata": {
    "colab_type": "text",
    "id": "deDnDr8UR5vq"
   },
   "source": [
    "## Predicting a new result"
   ]
  },
  {
   "cell_type": "code",
   "execution_count": 35,
   "metadata": {
    "ExecuteTime": {
     "end_time": "2023-10-17T18:45:03.720617Z",
     "start_time": "2023-10-17T18:45:03.704559Z"
    }
   },
   "outputs": [
    {
     "name": "stdout",
     "output_type": "stream",
     "text": [
      "[2.5481915]\n",
      "[-0.64519334  0.1953642 ]\n"
     ]
    }
   ],
   "source": [
    "# Hur ska vi använda regressor.predict för att modellera \n",
    "# lön om erfarenheten är 6.5 ?\n",
    "\n",
    "print(regressor.predict(sc_X.transform([[6.5]])))"
   ]
  },
  {
   "cell_type": "code",
   "execution_count": 32,
   "metadata": {
    "ExecuteTime": {
     "end_time": "2023-10-17T18:43:42.546185Z",
     "start_time": "2023-10-17T18:43:42.500939Z"
    }
   },
   "outputs": [
    {
     "data": {
      "text/plain": "<Figure size 640x480 with 1 Axes>",
      "image/png": "[encoded data removed]"
     },
     "metadata": {},
     "output_type": "display_data"
    }
   ],
   "source": [
    "y_pred = regressor.predict(sc_X.transform(X_test))\n",
    "plt.scatter(X_train, y_train, color = 'b')\n",
    "plt.show()"
   ]
  },
  {
   "cell_type": "code",
   "execution_count": null,
   "metadata": {},
   "outputs": [],
   "source": []
  },
  {
   "cell_type": "code",
   "execution_count": null,
   "metadata": {},
   "outputs": [],
   "source": []
  },
  {
   "cell_type": "code",
   "execution_count": null,
   "metadata": {},
   "outputs": [],
   "source": []
  },
  {
   "cell_type": "markdown",
   "metadata": {
    "colab_type": "text",
    "id": "zzedFlUISSu_"
   },
   "source": [
    "## Visualising the XGBoost results"
   ]
  },
  {
   "cell_type": "code",
   "execution_count": 36,
   "metadata": {
    "ExecuteTime": {
     "end_time": "2023-10-17T18:45:23.102591Z",
     "start_time": "2023-10-17T18:45:23.029492Z"
    }
   },
   "outputs": [
    {
     "data": {
      "text/plain": "<Figure size 640x480 with 1 Axes>",
      "image/png": "[encoded data removed]"
     },
     "metadata": {},
     "output_type": "display_data"
    }
   ],
   "source": [
    "# Ska plotta X värden mot predicerade y värden,\n",
    "# samt lägga in ursprunglig data som punkter.\n",
    "# Kom ihåg att både X och y variablerna redan \n",
    "# är transformerade! Vi måste transformera\n",
    "# tillbaka bägge!\n",
    "plt.scatter(sc_X.inverse_transform(X), sc_y.inverse_transform(y.reshape(-1,1)), color='red')\n",
    "plt.plot(sc_X.inverse_transform(X),sc_y.inverse_transform(regressor.predict(X).reshape(-1,1)),color='blue')\n",
    "plt.title('Salary according to position')\n",
    "plt.xlabel('Position level')\n",
    "plt.ylabel('Salary')\n",
    "plt.show()"
   ]
  },
  {
   "cell_type": "markdown",
   "metadata": {
    "colab_type": "text",
    "id": "UahPVNlJSZ-K"
   },
   "source": [
    "## Visualising the XGB results (for higher resolution and smoother curve)"
   ]
  },
  {
   "cell_type": "code",
   "execution_count": 37,
   "metadata": {
    "scrolled": true,
    "ExecuteTime": {
     "end_time": "2023-10-17T18:45:26.209354Z",
     "start_time": "2023-10-17T18:45:26.100475Z"
    }
   },
   "outputs": [
    {
     "name": "stderr",
     "output_type": "stream",
     "text": [
      "/var/folders/xg/fxsf84n93916njsh4lzg7sz80000gn/T/ipykernel_63967/3871812339.py:8: DeprecationWarning: Conversion of an array with ndim > 0 to a scalar is deprecated, and will error in future. Ensure you extract a single element from your array before performing this operation. (Deprecated NumPy 1.25.)\n",
      "  X_grid = np.arange(min(sc_X.inverse_transform(X)), max(sc_X.inverse_transform(X)),0.2)\n"
     ]
    },
    {
     "data": {
      "text/plain": "[<matplotlib.lines.Line2D at 0x14f273310>]"
     },
     "execution_count": 37,
     "metadata": {},
     "output_type": "execute_result"
    },
    {
     "data": {
      "text/plain": "<Figure size 640x480 with 1 Axes>",
      "image/png": "[encoded data removed]"
     },
     "metadata": {},
     "output_type": "display_data"
    }
   ],
   "source": [
    "# Vill göra plotten mjukare genom att öka upplösningen.\n",
    "# Skapaer ett ny 'rutnät' (grid) på X axeln, som delar\n",
    "# in intervallet i punkter med avståndet 0.1\n",
    "# Räknar sedan ut vad modellen predicerar för dessa\n",
    "# punter, och använter plot funktionen för att\n",
    "# skriva ut punkterna i en graf och förbinda \n",
    "# med linjer\n",
    "X_grid = np.arange(min(sc_X.inverse_transform(X)), max(sc_X.inverse_transform(X)),0.2)\n",
    "X_grid = X_grid.reshape((-1, 1))\n",
    "plt.scatter(sc_X.inverse_transform(X), sc_y.inverse_transform(y.reshape(-1,1)), color='red')\n",
    "plt.plot(X_grid,sc_y.inverse_transform(regressor.predict(sc_X.transform(X_grid)).reshape(-1,1)),color='blue')"
   ]
  },
  {
   "cell_type": "code",
   "execution_count": 38,
   "metadata": {
    "ExecuteTime": {
     "end_time": "2023-10-17T18:45:33.414887Z",
     "start_time": "2023-10-17T18:45:33.404116Z"
    }
   },
   "outputs": [
    {
     "data": {
      "text/plain": "(10, 1)"
     },
     "execution_count": 38,
     "metadata": {},
     "output_type": "execute_result"
    }
   ],
   "source": [
    "regressor.predict(X).reshape(-1,1).shape"
   ]
  }
 ],
 "metadata": {
  "colab": {
   "collapsed_sections": [],
   "name": "support_vector_regression.ipynb",
   "provenance": [],
   "toc_visible": true
  },
  "kernelspec": {
   "display_name": "Python 3 (ipykernel)",
   "language": "python",
   "name": "python3"
  },
  "language_info": {
   "codemirror_mode": {
    "name": "ipython",
    "version": 3
   },
   "file_extension": ".py",
   "mimetype": "text/x-python",
   "name": "python",
   "nbconvert_exporter": "python",
   "pygments_lexer": "ipython3",
   "version": "3.10.11"
  }
 },
 "nbformat": 4,
 "nbformat_minor": 1
}
