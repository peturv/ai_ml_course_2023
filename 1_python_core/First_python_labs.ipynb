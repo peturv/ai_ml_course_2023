{
  "nbformat": 4,
  "nbformat_minor": 0,
  "metadata": {
    "colab": {
      "provenance": [],
      "authorship_tag": "ABX9TyNaFHlXIs0jR4pXUhjKWdUb"
    },
    "kernelspec": {
      "name": "python3",
      "display_name": "Python 3"
    },
    "language_info": {
      "name": "python"
    }
  },
  "cells": [
    {
      "cell_type": "markdown",
      "source": [
        "About types"
      ],
      "metadata": {
        "id": "v8nCAEphZV26"
      }
    },
    {
      "cell_type": "markdown",
      "source": [
        "# Lektion 2 Introduktion."
      ],
      "metadata": {
        "id": "pcmqUA7msj-e"
      }
    },
    {
      "cell_type": "code",
      "execution_count": null,
      "metadata": {
        "id": "x296pmqPJApI",
        "colab": {
          "base_uri": "https://localhost:8080/"
        },
        "outputId": "7bca5a43-d081-4f90-cd73-700af1c45a28"
      },
      "outputs": [
        {
          "output_type": "execute_result",
          "data": {
            "text/plain": [
              "int"
            ]
          },
          "metadata": {},
          "execution_count": 19
        }
      ],
      "source": [
        "# Lets start with variables\n",
        "var = 1 # Thats strange?\n",
        "# Later reflection: Aha, the variable was NAMED var. It was not a keyword.\n",
        "type(var)"
      ]
    },
    {
      "cell_type": "code",
      "source": [
        "# Dynamic typing. I.e. inferred types.\n",
        "var = \"Pétur\"\n",
        "type(var)"
      ],
      "metadata": {
        "colab": {
          "base_uri": "https://localhost:8080/"
        },
        "id": "v54kOtRTKtYR",
        "outputId": "cfbdff94-0eeb-4b8a-e98f-b0a21118c68d"
      },
      "execution_count": null,
      "outputs": [
        {
          "output_type": "execute_result",
          "data": {
            "text/plain": [
              "str"
            ]
          },
          "metadata": {},
          "execution_count": 20
        }
      ]
    },
    {
      "cell_type": "code",
      "source": [
        "# CamelCase or snake_case.\n",
        "# snake_case är default FÖRUTOM klasser som är CamelCase\n",
        "class Person:\n",
        "    name = \"\"\n",
        "    age = 0\n",
        "\n",
        "    def print_greeting(self):\n",
        "        print(\"Hello {}! nice to meet you\".format( self.name))\n",
        "\n",
        "    def print_age(self):\n",
        "        print( \"{}? Thats pretty old\".format(self.age))\n",
        "\n",
        "instance = Person()\n",
        "# Input function always returns str\n",
        "instance.name = input(\"What's your name? \")\n",
        "instance.print_greeting()\n",
        "# Need to cast this\n",
        "instance.age = int( input(\"How old are you? \") )\n",
        "# NB, int(input()) with float input does not handle fractions well\n",
        "\n",
        "# char = str, int < float < str < tuple < dict < list\n",
        "instance.print_age()"
      ],
      "metadata": {
        "colab": {
          "base_uri": "https://localhost:8080/"
        },
        "id": "ZhTAJNE9LFKB",
        "outputId": "e51ab6a2-8935-4f69-a7e1-838cfece3038"
      },
      "execution_count": null,
      "outputs": [
        {
          "output_type": "stream",
          "name": "stdout",
          "text": [
            "What's your name? p\n",
            "Hello p! nice to meet you\n",
            "How old are you? 46\n",
            "46? Thats pretty old\n"
          ]
        }
      ]
    },
    {
      "cell_type": "markdown",
      "source": [
        "Lab 1:"
      ],
      "metadata": {
        "id": "jFm0FoWGZdjA"
      }
    },
    {
      "cell_type": "code",
      "source": [
        "'''\n",
        "LAB #1\n",
        "Write python code that reads in 2 numbers froom terminal\n",
        "and print out result of all these operations.\n",
        "'+', '-', '*', '/', '%', '//', '**'\n",
        "ex. num_1 / num2 = num\n",
        "'''\n",
        "class Calculator1:\n",
        "\n",
        "\n",
        "    def run(self):\n",
        "        first = float(input(\"Enter first number: \"))\n",
        "        operator = input(\"Enter operator '+', '-', '*', '/', '%', '//', '**': \")\n",
        "        second = float(input(\"Enter second number :\"))\n",
        "        print(self.calculate(first, second, operator))\n",
        "\n",
        "    def calculate(self, first: float, second:float, operator: str):\n",
        "        operate={\n",
        "            \"+\": first + second,\n",
        "            \"-\": first - second,\n",
        "            \"*\": first * second,\n",
        "            \"/\": first / second,\n",
        "            \"%\": first % second,\n",
        "            \"//\": first // second,\n",
        "            \"**\": first ** second\n",
        "        }\n",
        "        return operate.get(operator, \"Not a valid operator, please try again\")\n",
        "\n",
        "calculator = Calculator1()\n",
        "calculator.run()\n"
      ],
      "metadata": {
        "colab": {
          "base_uri": "https://localhost:8080/"
        },
        "id": "R4lu9FeqLkbQ",
        "outputId": "09a51502-4ffd-4b7a-bb28-98da03a7627f"
      },
      "execution_count": null,
      "outputs": [
        {
          "output_type": "stream",
          "name": "stdout",
          "text": [
            "Enter first number: 30\n",
            "Enter second number :40\n",
            "Enter operator '+', '-', '*', '/', '%', '//', '**': +\n",
            "70.0\n"
          ]
        }
      ]
    },
    {
      "cell_type": "markdown",
      "source": [
        "LAB 1, more of the same"
      ],
      "metadata": {
        "id": "CWdyiY3VZgnf"
      }
    },
    {
      "cell_type": "code",
      "source": [
        "from logging import exception\n",
        "'''\n",
        "LAB #1\n",
        "Write python code that reads in 2 numbers froom terminal\n",
        "and print out result of all these operations.\n",
        "'+', '-', '*', '/', '%', '//', '**'\n",
        "ex. num_1 / num2 = num\n",
        "'''\n",
        "from enum import Enum\n",
        "import re\n",
        "\n",
        "class CalculatorMode(Enum):\n",
        "    SIMPLE = \"simple\"\n",
        "    ADVANCED = \"advanced\"\n",
        "\n",
        "class Operators(Enum):\n",
        "    PLUS = \"+\"\n",
        "    MINUS = \"-\"\n",
        "    MULTIPLY = \"*\"\n",
        "    DIVIDE = \"/\"\n",
        "    MOD = \"%\"\n",
        "    FLOORDIVIDE = \"//\"\n",
        "    POW = \"**\"\n",
        "\n",
        "class Calculator:\n",
        "\n",
        "    mode: CalculatorMode\n",
        "\n",
        "    def __init__(self, mode: CalculatorMode):\n",
        "        self.mode = mode\n",
        "        return\n",
        "\n",
        "    def request_input(self):\n",
        "        try:\n",
        "            if(self.mode == CalculatorMode.SIMPLE):\n",
        "                return self.run()\n",
        "            elif (self.mode == CalculatorMode.ADVANCED):\n",
        "                return self.run_advanced()\n",
        "            else:\n",
        "                return print(\"Not a valid mode!\")\n",
        "        except:\n",
        "            print(\"Closed due to failure\")\n",
        "\n",
        "    def quit_this(self, value):\n",
        "        print(\"Hmz, that doesn't look correct\", value)\n",
        "        exit = input(\"Want to quit? (y/n) \")\n",
        "        if(exit == \"y\"):\n",
        "            print(\"Aborting this then\")\n",
        "            raise Exception()\n",
        "        return\n",
        "\n",
        "    def get_number(self, prompt: str) -> float:\n",
        "        success = 0.0 # Feels iffy. Need to look att null-handling\n",
        "        result = None\n",
        "        while type(result) != float:\n",
        "            try:\n",
        "                result = float(input(prompt + \": \"))\n",
        "                success = result\n",
        "            except:\n",
        "                self.quit_this(result)\n",
        "\n",
        "        return success\n",
        "\n",
        "    def run(self):\n",
        "        first = self.get_number(\"Enter first number\")\n",
        "        second = self.get_number(\"Enter second number\")\n",
        "        if type(first) != float or type(second) != float:\n",
        "            print(\"This doesn't look right\")\n",
        "            return\n",
        "\n",
        "        operator = None\n",
        "        while operator not in [o.value for o in Operators]:\n",
        "            operator = input(\"Enter operator '+', '-', '*', '/', '%', '//', '**': \")\n",
        "\n",
        "        print(self.calculate(first, second, Operators(operator)))\n",
        "        return\n",
        "\n",
        "    def calculate(self, first: float, second:float, operator: Operators):\n",
        "        operate={\n",
        "            Operators.PLUS: first + second,\n",
        "            Operators.MINUS: first - second,\n",
        "            Operators.MULTIPLY: first * second,\n",
        "            Operators.DIVIDE: first / second,\n",
        "            Operators.MOD: first % second,\n",
        "            Operators.FLOORDIVIDE: first // second,\n",
        "            Operators.POW: first ** second\n",
        "        }\n",
        "        return operate.get(operator, \"Not a valid operator, please try again\")\n",
        "\n",
        "    def run_advanced(self):\n",
        "        operation = input(\"Enter requested calculation: \")\n",
        "        parts = re.split(r'(\\D)', operation)\n",
        "        if(len(parts) < 3):\n",
        "            print(\"Need at least 3 parts, separated with space\")\n",
        "            return\n",
        "        else:\n",
        "            values = parts\n",
        "            if(len(values) > 3):\n",
        "                max_ix = len(values) - 1\n",
        "                values = [parts[0], \"\".join(parts[slice(1, max_ix)]), parts[-1] ]\n",
        "            try:\n",
        "                first = float(values[0])\n",
        "                second = float(values[2])\n",
        "                operator = values[1]\n",
        "                op = Operators(operator)\n",
        "                print(self.calculate(first, second, op))\n",
        "            except:\n",
        "                self.quit_this(operation)\n",
        "\n",
        "\n",
        "mode = None\n",
        "while mode not in [m.value for m in CalculatorMode]:\n",
        "    mode = input(\"Select mode: simple or advanced \")\n",
        "\n",
        "calculator = Calculator(CalculatorMode(mode))\n",
        "calculator.request_input()"
      ],
      "metadata": {
        "colab": {
          "base_uri": "https://localhost:8080/"
        },
        "id": "Z9OWpGPTTy4U",
        "outputId": "6b349aa7-c269-4b75-8a9e-246df8f71c69"
      },
      "execution_count": null,
      "outputs": [
        {
          "output_type": "stream",
          "name": "stdout",
          "text": [
            "Select mode: simple or advanced advanced\n",
            "Enter requested calculation: 400*10\n",
            "4000.0\n"
          ]
        }
      ]
    },
    {
      "cell_type": "markdown",
      "source": [
        "Python LOVES strings"
      ],
      "metadata": {
        "id": "KGJpOxuaZSjF"
      }
    },
    {
      "cell_type": "code",
      "source": [
        "# string = char[]\n",
        "my_number_string = \"0123456789\"\n",
        "for ix in range(0, len(my_number_string)):\n",
        "   print(ix, \":\", my_number_string[ix])\n",
        "\n",
        "for ix in range(-len(my_number_string), 0):\n",
        "    print(ix + 1, \":\", my_number_string[ix + 1])"
      ],
      "metadata": {
        "id": "Arn0JOeoZoLZ"
      },
      "execution_count": null,
      "outputs": []
    },
    {
      "cell_type": "markdown",
      "source": [
        "# Lektion 3 Arrayer"
      ],
      "metadata": {
        "id": "b-Mb7GqhsxZj"
      }
    },
    {
      "cell_type": "markdown",
      "source": [
        "Given two arrays of strings a1 and a2 return a sorted array r in lexicographical order of the strings of a1 which are substrings of strings of a2.\n",
        "\n",
        "Example 1:\n",
        "a1 = [\"arp\", \"live\", \"strong\"]\n",
        "\n",
        "a2 = [\"lively\", \"alive\", \"harp\", \"sharp\", \"armstrong\"]\n",
        "\n",
        "returns [\"arp\", \"live\", \"strong\"]\n",
        "\n",
        "Example 2:\n",
        "a1 = [\"tarp\", \"mice\", \"bull\"]\n",
        "\n",
        "a2 = [\"lively\", \"alive\", \"harp\", \"sharp\", \"armstrong\"]\n",
        "\n",
        "returns []\n",
        "\n",
        "Notes:\n",
        "Arrays are written in \"general\" notation. See \"Your Test Cases\" for examples in your language.\n",
        "In Shell bash a1 and a2 are strings. The return is a string where words are separated by commas.\n",
        "Beware: In some languages r must be without duplicates."
      ],
      "metadata": {
        "id": "M6TefAs9wbOW"
      }
    },
    {
      "cell_type": "markdown",
      "source": [
        "**Realized a tad too late** that files saved in the content folder or similar are not accessible in new machines. Since I don't want to enable full access to my drive folder (I don't want to risk deleting everything by accident) I'll include a prestep to write data to files."
      ],
      "metadata": {
        "id": "MSiHScR8mjk8"
      }
    },
    {
      "cell_type": "code",
      "source": [
        "from os.path import exists\n",
        "\n",
        "def save_data(file, data):\n",
        "    if not exists(file):\n",
        "        with open(file, 'w') as handle:\n",
        "            handle.write(data)\n",
        "            handle.close()\n",
        "\n",
        "save_data('/content/arrays.json', \"\"\"\n",
        "{\n",
        "    \"target\": [\"lively\", \"alive\", \"harp\", \"sharp\", \"armstrong\"],\n",
        "    \"filters\": [\n",
        "        [\"arp\", \"live\", \"strong\"],\n",
        "        [\"tarp\", \"mice\", \"bull\"]\n",
        "    ]\n",
        "}\n",
        "\"\"\")"
      ],
      "metadata": {
        "id": "IvnT0PQZnMK0"
      },
      "execution_count": null,
      "outputs": []
    },
    {
      "cell_type": "code",
      "source": [
        "import array\n",
        "import json\n",
        "\n",
        "def filter_list(target, filtering):\n",
        "    return sorted(\n",
        "        [candidate for candidate in target\n",
        "         if any(filter in candidate for filter in filtering)]\n",
        "    )\n",
        "\n",
        "with open('/content/arrays.json') as arrays_json:\n",
        "    file_contents = arrays_json.read()\n",
        "data = json.loads(file_contents)\n",
        "\n",
        "for filter in data[\"filters\"]:\n",
        "    print(\"Filtered by \", filter, \": \", filter_list(data[\"target\"], filter))\n"
      ],
      "metadata": {
        "colab": {
          "base_uri": "https://localhost:8080/"
        },
        "id": "XeaqFp1Ks1vy",
        "outputId": "8dbf41e3-fe8a-4e57-ac5e-4199490eef3d"
      },
      "execution_count": null,
      "outputs": [
        {
          "output_type": "stream",
          "name": "stdout",
          "text": [
            "Filtered by  ['arp', 'live', 'strong'] :  ['alive', 'armstrong', 'harp', 'lively', 'sharp']\n",
            "Filtered by  ['tarp', 'mice', 'bull'] :  []\n"
          ]
        }
      ]
    },
    {
      "cell_type": "markdown",
      "source": [
        "Challenge #2\n",
        "\n",
        "with one python line write function pig_it(text) that Move the first letter of each word to the end of it, then add \"ay\" to the end of the word. Leave punctuation marks untouched.\n",
        "\n",
        "\n",
        "\n",
        "Examples\n",
        "\n",
        "pig_it('Pig latin is cool') # igPay atinlay siay oolcay\n",
        "\n",
        "pig_it('Hello world !')     # elloHay orldway !"
      ],
      "metadata": {
        "id": "abnWs_UAwA2V"
      }
    },
    {
      "cell_type": "code",
      "source": [
        "import re\n",
        "\n",
        "# W regex\n",
        "def pig_it_re(s): return \"\".join([w[::-1] + \"ay\" if w.isalpha() else w for w in re.split(r\"(\\W)\", s)])\n",
        "\n",
        "# W/o regex ( not pretty, and a cheating a tad )\n",
        "def pig_it(s): truefalse = [c.isalpha() for c in s]; firstnon = truefalse.index(False) if False in truefalse else len(s); return \"\" if len(s) < 1 else s[0:firstnon:][::-1] + \"ay\" + pig_it(s[firstnon:len(s):]) if s[0].isalpha() else s[0] + pig_it(s[1::]) if len(s) > 0 else \"\"\n",
        "\n",
        "print(pig_it(\"hello hola nice to meet you! and you too. ?! a\"))\n",
        "print(pig_it_re(\"hello hola nice to meet you! and you too. ?! a\"))\n",
        "\n"
      ],
      "metadata": {
        "colab": {
          "base_uri": "https://localhost:8080/"
        },
        "id": "yUp1LDTnwANp",
        "outputId": "ac40265d-3622-4f42-a309-0ba58f906ba7"
      },
      "execution_count": null,
      "outputs": [
        {
          "output_type": "stream",
          "name": "stdout",
          "text": [
            "ollehay alohay ecinay otay teemay uoyay! dnaay uoyay ootay. ?! aay\n",
            "ollehay alohay ecinay otay teemay uoyay! dnaay uoyay ootay. ?! aay\n"
          ]
        }
      ]
    }
  ]
}