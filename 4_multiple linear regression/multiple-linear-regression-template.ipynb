{
 "cells": [
  {
   "cell_type": "markdown",
   "metadata": {
    "colab_type": "text",
    "id": "CazISR8X_HUG"
   },
   "source": [
    "# Multiple Linear Regression"
   ]
  },
  {
   "cell_type": "markdown",
   "metadata": {
    "colab_type": "text",
    "id": "pOyqYHTk_Q57"
   },
   "source": [
    "## Importing the libraries"
   ]
  },
  {
   "cell_type": "code",
   "execution_count": 114,
   "metadata": {
    "ExecuteTime": {
     "end_time": "2023-10-02T18:24:30.086306Z",
     "start_time": "2023-10-02T18:24:30.016884Z"
    }
   },
   "outputs": [],
   "source": [
    "import pandas as pd\n",
    "import numpy as np\n",
    "import matplotlib.pyplot as plt\n",
    "%matplotlib inline"
   ]
  },
  {
   "cell_type": "markdown",
   "metadata": {
    "colab_type": "text",
    "id": "vgC61-ah_WIz"
   },
   "source": [
    "## Importing the dataset"
   ]
  },
  {
   "cell_type": "code",
   "execution_count": 115,
   "metadata": {
    "ExecuteTime": {
     "end_time": "2023-10-02T18:24:30.139722Z",
     "start_time": "2023-10-02T18:24:30.021597Z"
    }
   },
   "outputs": [],
   "source": [
    "raw_data = pd.read_csv('50_Startups.csv')"
   ]
  },
  {
   "cell_type": "code",
   "execution_count": 116,
   "metadata": {
    "ExecuteTime": {
     "end_time": "2023-10-02T18:24:30.140334Z",
     "start_time": "2023-10-02T18:24:30.035762Z"
    }
   },
   "outputs": [
    {
     "data": {
      "text/plain": "   R&D Spend  Administration  Marketing Spend       State     Profit\n0  165349.20       136897.80        471784.10    New York  192261.83\n1  162597.70       151377.59        443898.53  California  191792.06\n2  153441.51       101145.55        407934.54     Florida  191050.39\n3  144372.41       118671.85        383199.62    New York  182901.99\n4  142107.34        91391.77        366168.42     Florida  166187.94",
      "text/html": "<div>\n<style scoped>\n    .dataframe tbody tr th:only-of-type {\n        vertical-align: middle;\n    }\n\n    .dataframe tbody tr th {\n        vertical-align: top;\n    }\n\n    .dataframe thead th {\n        text-align: right;\n    }\n</style>\n<table border=\"1\" class=\"dataframe\">\n  <thead>\n    <tr style=\"text-align: right;\">\n      <th></th>\n      <th>R&amp;D Spend</th>\n      <th>Administration</th>\n      <th>Marketing Spend</th>\n      <th>State</th>\n      <th>Profit</th>\n    </tr>\n  </thead>\n  <tbody>\n    <tr>\n      <th>0</th>\n      <td>165349.20</td>\n      <td>136897.80</td>\n      <td>471784.10</td>\n      <td>New York</td>\n      <td>192261.83</td>\n    </tr>\n    <tr>\n      <th>1</th>\n      <td>162597.70</td>\n      <td>151377.59</td>\n      <td>443898.53</td>\n      <td>California</td>\n      <td>191792.06</td>\n    </tr>\n    <tr>\n      <th>2</th>\n      <td>153441.51</td>\n      <td>101145.55</td>\n      <td>407934.54</td>\n      <td>Florida</td>\n      <td>191050.39</td>\n    </tr>\n    <tr>\n      <th>3</th>\n      <td>144372.41</td>\n      <td>118671.85</td>\n      <td>383199.62</td>\n      <td>New York</td>\n      <td>182901.99</td>\n    </tr>\n    <tr>\n      <th>4</th>\n      <td>142107.34</td>\n      <td>91391.77</td>\n      <td>366168.42</td>\n      <td>Florida</td>\n      <td>166187.94</td>\n    </tr>\n  </tbody>\n</table>\n</div>"
     },
     "execution_count": 116,
     "metadata": {},
     "output_type": "execute_result"
    }
   ],
   "source": [
    "raw_data.head()"
   ]
  },
  {
   "cell_type": "code",
   "execution_count": 117,
   "metadata": {
    "ExecuteTime": {
     "end_time": "2023-10-02T18:24:30.150525Z",
     "start_time": "2023-10-02T18:24:30.044721Z"
    }
   },
   "outputs": [
    {
     "name": "stdout",
     "output_type": "stream",
     "text": [
      "<class 'pandas.core.frame.DataFrame'>\n",
      "RangeIndex: 50 entries, 0 to 49\n",
      "Data columns (total 5 columns):\n",
      " #   Column           Non-Null Count  Dtype  \n",
      "---  ------           --------------  -----  \n",
      " 0   R&D Spend        50 non-null     float64\n",
      " 1   Administration   50 non-null     float64\n",
      " 2   Marketing Spend  50 non-null     float64\n",
      " 3   State            50 non-null     object \n",
      " 4   Profit           50 non-null     float64\n",
      "dtypes: float64(4), object(1)\n",
      "memory usage: 2.1+ KB\n"
     ]
    }
   ],
   "source": [
    "raw_data.info()"
   ]
  },
  {
   "cell_type": "code",
   "execution_count": 118,
   "metadata": {
    "ExecuteTime": {
     "end_time": "2023-10-02T18:24:30.187869Z",
     "start_time": "2023-10-02T18:24:30.050330Z"
    }
   },
   "outputs": [
    {
     "data": {
      "text/plain": "           R&D Spend  Administration  Marketing Spend         Profit\ncount      50.000000       50.000000        50.000000      50.000000\nmean    73721.615600   121344.639600    211025.097800  112012.639200\nstd     45902.256482    28017.802755    122290.310726   40306.180338\nmin         0.000000    51283.140000         0.000000   14681.400000\n25%     39936.370000   103730.875000    129300.132500   90138.902500\n50%     73051.080000   122699.795000    212716.240000  107978.190000\n75%    101602.800000   144842.180000    299469.085000  139765.977500\nmax    165349.200000   182645.560000    471784.100000  192261.830000",
      "text/html": "<div>\n<style scoped>\n    .dataframe tbody tr th:only-of-type {\n        vertical-align: middle;\n    }\n\n    .dataframe tbody tr th {\n        vertical-align: top;\n    }\n\n    .dataframe thead th {\n        text-align: right;\n    }\n</style>\n<table border=\"1\" class=\"dataframe\">\n  <thead>\n    <tr style=\"text-align: right;\">\n      <th></th>\n      <th>R&amp;D Spend</th>\n      <th>Administration</th>\n      <th>Marketing Spend</th>\n      <th>Profit</th>\n    </tr>\n  </thead>\n  <tbody>\n    <tr>\n      <th>count</th>\n      <td>50.000000</td>\n      <td>50.000000</td>\n      <td>50.000000</td>\n      <td>50.000000</td>\n    </tr>\n    <tr>\n      <th>mean</th>\n      <td>73721.615600</td>\n      <td>121344.639600</td>\n      <td>211025.097800</td>\n      <td>112012.639200</td>\n    </tr>\n    <tr>\n      <th>std</th>\n      <td>45902.256482</td>\n      <td>28017.802755</td>\n      <td>122290.310726</td>\n      <td>40306.180338</td>\n    </tr>\n    <tr>\n      <th>min</th>\n      <td>0.000000</td>\n      <td>51283.140000</td>\n      <td>0.000000</td>\n      <td>14681.400000</td>\n    </tr>\n    <tr>\n      <th>25%</th>\n      <td>39936.370000</td>\n      <td>103730.875000</td>\n      <td>129300.132500</td>\n      <td>90138.902500</td>\n    </tr>\n    <tr>\n      <th>50%</th>\n      <td>73051.080000</td>\n      <td>122699.795000</td>\n      <td>212716.240000</td>\n      <td>107978.190000</td>\n    </tr>\n    <tr>\n      <th>75%</th>\n      <td>101602.800000</td>\n      <td>144842.180000</td>\n      <td>299469.085000</td>\n      <td>139765.977500</td>\n    </tr>\n    <tr>\n      <th>max</th>\n      <td>165349.200000</td>\n      <td>182645.560000</td>\n      <td>471784.100000</td>\n      <td>192261.830000</td>\n    </tr>\n  </tbody>\n</table>\n</div>"
     },
     "execution_count": 118,
     "metadata": {},
     "output_type": "execute_result"
    }
   ],
   "source": [
    "raw_data.describe()"
   ]
  },
  {
   "cell_type": "markdown",
   "source": [
    "Remember the principle of Garbage in, Garbage out.\n",
    "The general rule is NOT to insert all data without examining it"
   ],
   "metadata": {
    "collapsed": false
   }
  },
  {
   "cell_type": "code",
   "execution_count": 119,
   "outputs": [],
   "source": [
    "x = raw_data.iloc[:, :-1].values\n",
    "y = raw_data.iloc[:, -1].values"
   ],
   "metadata": {
    "collapsed": false,
    "ExecuteTime": {
     "end_time": "2023-10-02T18:24:30.189178Z",
     "start_time": "2023-10-02T18:24:30.060014Z"
    }
   }
  },
  {
   "cell_type": "code",
   "execution_count": 120,
   "outputs": [
    {
     "name": "stdout",
     "output_type": "stream",
     "text": [
      "[[165349.2 136897.8 471784.1 'New York']\n",
      " [162597.7 151377.59 443898.53 'California']\n",
      " [153441.51 101145.55 407934.54 'Florida']\n",
      " [144372.41 118671.85 383199.62 'New York']\n",
      " [142107.34 91391.77 366168.42 'Florida']\n",
      " [131876.9 99814.71 362861.36 'New York']\n",
      " [134615.46 147198.87 127716.82 'California']\n",
      " [130298.13 145530.06 323876.68 'Florida']\n",
      " [120542.52 148718.95 311613.29 'New York']\n",
      " [123334.88 108679.17 304981.62 'California']\n",
      " [101913.08 110594.11 229160.95 'Florida']\n",
      " [100671.96 91790.61 249744.55 'California']\n",
      " [93863.75 127320.38 249839.44 'Florida']\n",
      " [91992.39 135495.07 252664.93 'California']\n",
      " [119943.24 156547.42 256512.92 'Florida']\n",
      " [114523.61 122616.84 261776.23 'New York']\n",
      " [78013.11 121597.55 264346.06 'California']\n",
      " [94657.16 145077.58 282574.31 'New York']\n",
      " [91749.16 114175.79 294919.57 'Florida']\n",
      " [86419.7 153514.11 0.0 'New York']\n",
      " [76253.86 113867.3 298664.47 'California']\n",
      " [78389.47 153773.43 299737.29 'New York']\n",
      " [73994.56 122782.75 303319.26 'Florida']\n",
      " [67532.53 105751.03 304768.73 'Florida']\n",
      " [77044.01 99281.34 140574.81 'New York']\n",
      " [64664.71 139553.16 137962.62 'California']\n",
      " [75328.87 144135.98 134050.07 'Florida']\n",
      " [72107.6 127864.55 353183.81 'New York']\n",
      " [66051.52 182645.56 118148.2 'Florida']\n",
      " [65605.48 153032.06 107138.38 'New York']\n",
      " [61994.48 115641.28 91131.24 'Florida']\n",
      " [61136.38 152701.92 88218.23 'New York']\n",
      " [63408.86 129219.61 46085.25 'California']\n",
      " [55493.95 103057.49 214634.81 'Florida']\n",
      " [46426.07 157693.92 210797.67 'California']\n",
      " [46014.02 85047.44 205517.64 'New York']\n",
      " [28663.76 127056.21 201126.82 'Florida']\n",
      " [44069.95 51283.14 197029.42 'California']\n",
      " [20229.59 65947.93 185265.1 'New York']\n",
      " [38558.51 82982.09 174999.3 'California']\n",
      " [28754.33 118546.05 172795.67 'California']\n",
      " [27892.92 84710.77 164470.71 'Florida']\n",
      " [23640.93 96189.63 148001.11 'California']\n",
      " [15505.73 127382.3 35534.17 'New York']\n",
      " [22177.74 154806.14 28334.72 'California']\n",
      " [1000.23 124153.04 1903.93 'New York']\n",
      " [1315.46 115816.21 297114.46 'Florida']\n",
      " [0.0 135426.92 0.0 'California']\n",
      " [542.05 51743.15 0.0 'New York']\n",
      " [0.0 116983.8 45173.06 'California']]\n",
      "[192261.83 191792.06 191050.39 182901.99 166187.94 156991.12 156122.51\n",
      " 155752.6  152211.77 149759.96 146121.95 144259.4  141585.52 134307.35\n",
      " 132602.65 129917.04 126992.93 125370.37 124266.9  122776.86 118474.03\n",
      " 111313.02 110352.25 108733.99 108552.04 107404.34 105733.54 105008.31\n",
      " 103282.38 101004.64  99937.59  97483.56  97427.84  96778.92  96712.8\n",
      "  96479.51  90708.19  89949.14  81229.06  81005.76  78239.91  77798.83\n",
      "  71498.49  69758.98  65200.33  64926.08  49490.75  42559.73  35673.41\n",
      "  14681.4 ]\n"
     ]
    }
   ],
   "source": [
    "print(x)\n",
    "print(y)"
   ],
   "metadata": {
    "collapsed": false,
    "ExecuteTime": {
     "end_time": "2023-10-02T18:24:30.189333Z",
     "start_time": "2023-10-02T18:24:30.063629Z"
    }
   }
  },
  {
   "cell_type": "markdown",
   "metadata": {
    "colab_type": "text",
    "id": "VadrvE7s_lS9"
   },
   "source": [
    "## Encoding categorical data"
   ]
  },
  {
   "cell_type": "code",
   "execution_count": 121,
   "metadata": {
    "ExecuteTime": {
     "end_time": "2023-10-02T18:24:30.189580Z",
     "start_time": "2023-10-02T18:24:30.067021Z"
    }
   },
   "outputs": [],
   "source": [
    "from sklearn.preprocessing import OneHotEncoder\n",
    "from sklearn.compose import ColumnTransformer"
   ]
  },
  {
   "cell_type": "code",
   "execution_count": 122,
   "metadata": {
    "ExecuteTime": {
     "end_time": "2023-10-02T18:24:30.190383Z",
     "start_time": "2023-10-02T18:24:30.070471Z"
    }
   },
   "outputs": [],
   "source": [
    "# Ensure clean data for section\n",
    "raw_data = pd.read_csv('50_Startups.csv')\n",
    "x = raw_data.iloc[:, :-1].values\n",
    "y = raw_data.iloc[:,-1].values"
   ]
  },
  {
   "cell_type": "code",
   "execution_count": 123,
   "metadata": {
    "ExecuteTime": {
     "end_time": "2023-10-02T18:24:30.190710Z",
     "start_time": "2023-10-02T18:24:30.077365Z"
    }
   },
   "outputs": [],
   "source": [
    "# Setup and encode\n",
    "tf = ColumnTransformer([('encoder', OneHotEncoder(), [3])], remainder='passthrough')\n",
    "X = np.array(tf.fit_transform(x))"
   ]
  },
  {
   "cell_type": "code",
   "execution_count": 124,
   "metadata": {
    "ExecuteTime": {
     "end_time": "2023-10-02T18:24:30.190888Z",
     "start_time": "2023-10-02T18:24:30.080746Z"
    }
   },
   "outputs": [
    {
     "data": {
      "text/plain": "array([[0.0, 0.0, 1.0, 165349.2, 136897.8, 471784.1],\n       [1.0, 0.0, 0.0, 162597.7, 151377.59, 443898.53],\n       [0.0, 1.0, 0.0, 153441.51, 101145.55, 407934.54],\n       [0.0, 0.0, 1.0, 144372.41, 118671.85, 383199.62],\n       [0.0, 1.0, 0.0, 142107.34, 91391.77, 366168.42],\n       [0.0, 0.0, 1.0, 131876.9, 99814.71, 362861.36],\n       [1.0, 0.0, 0.0, 134615.46, 147198.87, 127716.82],\n       [0.0, 1.0, 0.0, 130298.13, 145530.06, 323876.68],\n       [0.0, 0.0, 1.0, 120542.52, 148718.95, 311613.29],\n       [1.0, 0.0, 0.0, 123334.88, 108679.17, 304981.62],\n       [0.0, 1.0, 0.0, 101913.08, 110594.11, 229160.95],\n       [1.0, 0.0, 0.0, 100671.96, 91790.61, 249744.55],\n       [0.0, 1.0, 0.0, 93863.75, 127320.38, 249839.44],\n       [1.0, 0.0, 0.0, 91992.39, 135495.07, 252664.93],\n       [0.0, 1.0, 0.0, 119943.24, 156547.42, 256512.92],\n       [0.0, 0.0, 1.0, 114523.61, 122616.84, 261776.23],\n       [1.0, 0.0, 0.0, 78013.11, 121597.55, 264346.06],\n       [0.0, 0.0, 1.0, 94657.16, 145077.58, 282574.31],\n       [0.0, 1.0, 0.0, 91749.16, 114175.79, 294919.57],\n       [0.0, 0.0, 1.0, 86419.7, 153514.11, 0.0],\n       [1.0, 0.0, 0.0, 76253.86, 113867.3, 298664.47],\n       [0.0, 0.0, 1.0, 78389.47, 153773.43, 299737.29],\n       [0.0, 1.0, 0.0, 73994.56, 122782.75, 303319.26],\n       [0.0, 1.0, 0.0, 67532.53, 105751.03, 304768.73],\n       [0.0, 0.0, 1.0, 77044.01, 99281.34, 140574.81],\n       [1.0, 0.0, 0.0, 64664.71, 139553.16, 137962.62],\n       [0.0, 1.0, 0.0, 75328.87, 144135.98, 134050.07],\n       [0.0, 0.0, 1.0, 72107.6, 127864.55, 353183.81],\n       [0.0, 1.0, 0.0, 66051.52, 182645.56, 118148.2],\n       [0.0, 0.0, 1.0, 65605.48, 153032.06, 107138.38],\n       [0.0, 1.0, 0.0, 61994.48, 115641.28, 91131.24],\n       [0.0, 0.0, 1.0, 61136.38, 152701.92, 88218.23],\n       [1.0, 0.0, 0.0, 63408.86, 129219.61, 46085.25],\n       [0.0, 1.0, 0.0, 55493.95, 103057.49, 214634.81],\n       [1.0, 0.0, 0.0, 46426.07, 157693.92, 210797.67],\n       [0.0, 0.0, 1.0, 46014.02, 85047.44, 205517.64],\n       [0.0, 1.0, 0.0, 28663.76, 127056.21, 201126.82],\n       [1.0, 0.0, 0.0, 44069.95, 51283.14, 197029.42],\n       [0.0, 0.0, 1.0, 20229.59, 65947.93, 185265.1],\n       [1.0, 0.0, 0.0, 38558.51, 82982.09, 174999.3],\n       [1.0, 0.0, 0.0, 28754.33, 118546.05, 172795.67],\n       [0.0, 1.0, 0.0, 27892.92, 84710.77, 164470.71],\n       [1.0, 0.0, 0.0, 23640.93, 96189.63, 148001.11],\n       [0.0, 0.0, 1.0, 15505.73, 127382.3, 35534.17],\n       [1.0, 0.0, 0.0, 22177.74, 154806.14, 28334.72],\n       [0.0, 0.0, 1.0, 1000.23, 124153.04, 1903.93],\n       [0.0, 1.0, 0.0, 1315.46, 115816.21, 297114.46],\n       [1.0, 0.0, 0.0, 0.0, 135426.92, 0.0],\n       [0.0, 0.0, 1.0, 542.05, 51743.15, 0.0],\n       [1.0, 0.0, 0.0, 0.0, 116983.8, 45173.06]], dtype=object)"
     },
     "execution_count": 124,
     "metadata": {},
     "output_type": "execute_result"
    }
   ],
   "source": [
    "X"
   ]
  },
  {
   "cell_type": "markdown",
   "metadata": {
    "colab_type": "text",
    "id": "WemVnqgeA70k"
   },
   "source": [
    "## Splitting the dataset into the Training set and Test set"
   ]
  },
  {
   "cell_type": "code",
   "execution_count": 125,
   "metadata": {
    "ExecuteTime": {
     "end_time": "2023-10-02T18:24:30.191407Z",
     "start_time": "2023-10-02T18:24:30.083830Z"
    }
   },
   "outputs": [],
   "source": [
    "from sklearn.model_selection import train_test_split"
   ]
  },
  {
   "cell_type": "code",
   "execution_count": 126,
   "metadata": {
    "ExecuteTime": {
     "end_time": "2023-10-02T18:24:30.191461Z",
     "start_time": "2023-10-02T18:24:30.088342Z"
    }
   },
   "outputs": [],
   "source": [
    "x_train, x_test, y_train, y_test = train_test_split(X, y, test_size=0.2, random_state=1)"
   ]
  },
  {
   "cell_type": "code",
   "execution_count": 127,
   "metadata": {
    "ExecuteTime": {
     "end_time": "2023-10-02T18:24:30.191557Z",
     "start_time": "2023-10-02T18:24:30.092868Z"
    }
   },
   "outputs": [
    {
     "data": {
      "text/plain": "40"
     },
     "execution_count": 127,
     "metadata": {},
     "output_type": "execute_result"
    }
   ],
   "source": [
    "len(x_train)"
   ]
  },
  {
   "cell_type": "markdown",
   "metadata": {
    "colab_type": "text",
    "id": "k-McZVsQBINc"
   },
   "source": [
    "## Training the Multiple Linear Regression model on the Training set"
   ]
  },
  {
   "cell_type": "code",
   "execution_count": 128,
   "metadata": {
    "ExecuteTime": {
     "end_time": "2023-10-02T18:24:30.191709Z",
     "start_time": "2023-10-02T18:24:30.095152Z"
    }
   },
   "outputs": [],
   "source": [
    "from sklearn.linear_model import LinearRegression"
   ]
  },
  {
   "cell_type": "code",
   "execution_count": 129,
   "outputs": [
    {
     "data": {
      "text/plain": "        Coeff\n0 -285.177769\n1  297.560876\n2  -12.383107\n3    0.774342\n4   -0.009444\n5    0.028918",
      "text/html": "<div>\n<style scoped>\n    .dataframe tbody tr th:only-of-type {\n        vertical-align: middle;\n    }\n\n    .dataframe tbody tr th {\n        vertical-align: top;\n    }\n\n    .dataframe thead th {\n        text-align: right;\n    }\n</style>\n<table border=\"1\" class=\"dataframe\">\n  <thead>\n    <tr style=\"text-align: right;\">\n      <th></th>\n      <th>Coeff</th>\n    </tr>\n  </thead>\n  <tbody>\n    <tr>\n      <th>0</th>\n      <td>-285.177769</td>\n    </tr>\n    <tr>\n      <th>1</th>\n      <td>297.560876</td>\n    </tr>\n    <tr>\n      <th>2</th>\n      <td>-12.383107</td>\n    </tr>\n    <tr>\n      <th>3</th>\n      <td>0.774342</td>\n    </tr>\n    <tr>\n      <th>4</th>\n      <td>-0.009444</td>\n    </tr>\n    <tr>\n      <th>5</th>\n      <td>0.028918</td>\n    </tr>\n  </tbody>\n</table>\n</div>"
     },
     "execution_count": 129,
     "metadata": {},
     "output_type": "execute_result"
    }
   ],
   "source": [
    "regressor = LinearRegression()\n",
    "regressor.fit(x_train,y_train)\n",
    "pd.DataFrame(regressor.coef_, pd.DataFrame(X).columns, columns = ['Coeff'])"
   ],
   "metadata": {
    "collapsed": false,
    "ExecuteTime": {
     "end_time": "2023-10-02T18:24:30.192072Z",
     "start_time": "2023-10-02T18:24:30.101511Z"
    }
   }
  },
  {
   "cell_type": "markdown",
   "metadata": {
    "colab_type": "text",
    "id": "xNkXL1YQBiBT"
   },
   "source": [
    "## Predicting the Test set results"
   ]
  },
  {
   "cell_type": "code",
   "execution_count": 131,
   "metadata": {
    "ExecuteTime": {
     "end_time": "2023-10-02T18:24:30.192305Z",
     "start_time": "2023-10-02T18:24:30.110079Z"
    }
   },
   "outputs": [
    {
     "data": {
      "text/plain": "array([114664.42,  90593.16,  75692.84,  70221.89, 179790.26, 171576.92,\n        49753.59, 102276.66,  58649.38,  98272.03])"
     },
     "execution_count": 131,
     "metadata": {},
     "output_type": "execute_result"
    }
   ],
   "source": [
    "y_predict = regressor.predict(x_test)\n",
    "y_predict"
   ]
  },
  {
   "cell_type": "code",
   "execution_count": 132,
   "outputs": [
    {
     "name": "stdout",
     "output_type": "stream",
     "text": [
      "[[114664.42 105008.31]\n",
      " [ 90593.16  96479.51]\n",
      " [ 75692.84  78239.91]\n",
      " [ 70221.89  81229.06]\n",
      " [179790.26 191050.39]\n",
      " [171576.92 182901.99]\n",
      " [ 49753.59  35673.41]\n",
      " [102276.66 101004.64]\n",
      " [ 58649.38  49490.75]\n",
      " [ 98272.03  97483.56]]\n"
     ]
    }
   ],
   "source": [
    "np.set_printoptions(precision=2)\n",
    "print(np.concatenate((y_predict.reshape(len(y_predict),1),y_test.reshape(len(y_test),1)),1))"
   ],
   "metadata": {
    "collapsed": false,
    "ExecuteTime": {
     "end_time": "2023-10-02T18:24:30.192588Z",
     "start_time": "2023-10-02T18:24:30.113540Z"
    }
   }
  },
  {
   "cell_type": "code",
   "execution_count": 133,
   "metadata": {
    "ExecuteTime": {
     "end_time": "2023-10-02T18:24:30.192664Z",
     "start_time": "2023-10-02T18:24:30.117813Z"
    }
   },
   "outputs": [
    {
     "name": "stdout",
     "output_type": "stream",
     "text": []
    }
   ],
   "source": [
    "### Pétur leker\n",
    "'''\n",
    "from sklearn.metrics import mean_squared_error, mean_absolute_error\n",
    "import seaborn as sns\n",
    "import warnings\n",
    "warnings.simplefilter(action=\"ignore\", category=FutureWarning) # Temporary fix for Seaborn issue\n",
    "sns.pairplot(raw_data)\n",
    "print(  'mean_squared_error : ', mean_squared_error(y_test, y_predict))\n",
    "print(  'mean_absolute_error : ', mean_absolute_error(y_test, y_predict))\n",
    "'''\n",
    "print(\"\")"
   ]
  },
  {
   "cell_type": "markdown",
   "source": [
    "Making a single prediction \n",
    "(for example the profit of a startup with R&D Spend = 160000, Administration Spend = 130000, Marketing Spend = 300000 and State = 'California')"
   ],
   "metadata": {
    "collapsed": false
   }
  },
  {
   "cell_type": "code",
   "execution_count": 135,
   "metadata": {
    "ExecuteTime": {
     "end_time": "2023-10-02T18:24:30.192764Z",
     "start_time": "2023-10-02T18:24:30.126259Z"
    }
   },
   "outputs": [],
   "source": [
    "X_sample = np.array([1,0,0,160000,130000,300000]) #.reshape(1,-1)"
   ]
  },
  {
   "cell_type": "code",
   "execution_count": 136,
   "metadata": {
    "ExecuteTime": {
     "end_time": "2023-10-02T18:24:30.192913Z",
     "start_time": "2023-10-02T18:24:30.129287Z"
    }
   },
   "outputs": [
    {
     "data": {
      "text/plain": "array([180892.25])"
     },
     "execution_count": 136,
     "metadata": {},
     "output_type": "execute_result"
    }
   ],
   "source": [
    "regressor.predict([X_sample])"
   ]
  },
  {
   "cell_type": "code",
   "execution_count": 137,
   "metadata": {
    "ExecuteTime": {
     "end_time": "2023-10-02T18:24:30.193Z",
     "start_time": "2023-10-02T18:24:30.131371Z"
    }
   },
   "outputs": [
    {
     "data": {
      "text/plain": "49834.88507322379"
     },
     "execution_count": 137,
     "metadata": {},
     "output_type": "execute_result"
    }
   ],
   "source": [
    "regressor.intercept_"
   ]
  },
  {
   "cell_type": "code",
   "execution_count": 138,
   "outputs": [
    {
     "data": {
      "text/plain": "array([-2.85e+02,  2.98e+02, -1.24e+01,  7.74e-01, -9.44e-03,  2.89e-02])"
     },
     "execution_count": 138,
     "metadata": {},
     "output_type": "execute_result"
    }
   ],
   "source": [
    "regressor.coef_"
   ],
   "metadata": {
    "collapsed": false,
    "ExecuteTime": {
     "end_time": "2023-10-02T18:24:30.193988Z",
     "start_time": "2023-10-02T18:24:30.136551Z"
    }
   }
  },
  {
   "cell_type": "code",
   "execution_count": 139,
   "metadata": {
    "ExecuteTime": {
     "end_time": "2023-10-02T18:24:30.194564Z",
     "start_time": "2023-10-02T18:24:30.140587Z"
    }
   },
   "outputs": [],
   "source": [
    "# The model predicts....? Profit = ???"
   ]
  }
 ],
 "metadata": {
  "colab": {
   "authorship_tag": "ABX9TyPhYhte6t7H4wEK4xPpDWT7",
   "name": "Multiple Linear Regression",
   "provenance": [],
   "toc_visible": true
  },
  "kernelspec": {
   "display_name": "Python 3 (ipykernel)",
   "language": "python",
   "name": "python3"
  },
  "language_info": {
   "codemirror_mode": {
    "name": "ipython",
    "version": 3
   },
   "file_extension": ".py",
   "mimetype": "text/x-python",
   "name": "python",
   "nbconvert_exporter": "python",
   "pygments_lexer": "ipython3",
   "version": "3.10.11"
  }
 },
 "nbformat": 4,
 "nbformat_minor": 1
}
