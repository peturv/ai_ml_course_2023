{
 "cells": [
  {
   "cell_type": "code",
   "execution_count": 2,
   "id": "initial_id",
   "metadata": {
    "collapsed": true,
    "ExecuteTime": {
     "end_time": "2023-11-07T18:01:09.506100Z",
     "start_time": "2023-11-07T18:01:09.503082Z"
    }
   },
   "outputs": [],
   "source": [
    "def get_fg(image_path:str,fg_x:int,fg_y:int,fg_width:int,fg_height:int, accuracy:int):\n",
    "    import cv2 as cv\n",
    "    import numpy as np\n",
    "#    print(f\"your OpenCV version is {cv.__version__}\")\n",
    "    image = cv.imread(image_path)\n",
    "    if image is not None:\n",
    "        i_mask = np.zeros(image.shape[:2],np.uint8)\n",
    "        i_rect = (fg_x,fg_y,fg_width,fg_height)\n",
    "        i_bg_model = np.zeros((1,65),np.float64)\n",
    "        i_fg_model = np.zeros((1,65),np.float64)\n",
    "        L_ITERATIONS = accuracy # = epochs in ANN\n",
    "        i_modes = [cv.GC_INIT_WITH_RECT, cv.GC_INIT_WITH_MASK]\n",
    "        cv.grabCut(\n",
    "            img = image,\n",
    "            mask = i_mask,\n",
    "            rect = i_rect,\n",
    "            bgdModel = i_bg_model,\n",
    "            fgdModel = i_fg_model,\n",
    "            iterCount = L_ITERATIONS,\n",
    "            mode = i_modes[0])\n",
    "        i_flagged_mask = np.where((i_mask==2)|(i_mask==0),0,1).astype('uint8')\n",
    "        return image * i_flagged_mask[:,:,np.newaxis]\n",
    "    else:\n",
    "        raise ValueError(\"Image not found\")"
   ]
  },
  {
   "cell_type": "code",
   "execution_count": 3,
   "outputs": [],
   "source": [
    "def show_image(image, title:str=None):\n",
    "    import cv2 as cv\n",
    "    import matplotlib.pyplot as plt\n",
    "    %matplotlib inline\n",
    "    plt.imshow(cv.cvtColor(image, cv.COLOR_BGR2RGB))\n",
    "    if title is not None:\n",
    "        plt.title(title)\n",
    "    plt.show()"
   ],
   "metadata": {
    "collapsed": false,
    "ExecuteTime": {
     "end_time": "2023-11-07T18:01:10.298882Z",
     "start_time": "2023-11-07T18:01:10.294767Z"
    }
   },
   "id": "8b42cdbd37940549"
  },
  {
   "cell_type": "code",
   "execution_count": 5,
   "outputs": [],
   "source": [
    "def find_faces(image_path:str, scale_factor: float=1.1, min_neighbours: int=4):\n",
    "    import cv2 as cv\n",
    "    \n",
    "    if (image := cv.imread(image_path)) is not None:\n",
    "        cascade = cv.CascadeClassifier(cv.data.haarcascades + \"haarcascade_frontalface_default.xml\")\n",
    "        result = image.copy()\n",
    "        detected = cascade.detectMultiScale(\n",
    "            image = cv.cvtColor(\n",
    "                src = image, \n",
    "                code = cv.COLOR_BGR2GRAY\n",
    "            ), \n",
    "            scaleFactor = scale_factor, \n",
    "            minNeighbors = min_neighbours\n",
    "        )\n",
    "        for (x, y, w, h) in detected:\n",
    "            cv.rectangle(\n",
    "                img = result, \n",
    "                pt1 = (x, y), \n",
    "                pt2 = (x+w, y+h), \n",
    "                color = (0, 255, 0), \n",
    "                thickness = 2)\n",
    "            \n",
    "        return result, len(detected)\n",
    "    else:\n",
    "        raise ValueError(f\"Image not found: {image_path}\")"
   ],
   "metadata": {
    "collapsed": false,
    "ExecuteTime": {
     "end_time": "2023-11-07T18:45:25.076579Z",
     "start_time": "2023-11-07T18:45:25.072620Z"
    }
   },
   "id": "25299ecd8929d791"
  },
  {
   "cell_type": "code",
   "execution_count": 6,
   "outputs": [],
   "source": [
    "def show_with_count(detection_result: tuple):\n",
    "    show_image(detection_result[0], f\"Faces detected: {detection_result[1]}\")"
   ],
   "metadata": {
    "collapsed": false,
    "ExecuteTime": {
     "end_time": "2023-11-07T18:45:25.784219Z",
     "start_time": "2023-11-07T18:45:25.778756Z"
    }
   },
   "id": "11d24462f135ec61"
  },
  {
   "cell_type": "code",
   "execution_count": 7,
   "outputs": [],
   "source": [
    "def video_emotion_overlay(input_src, output_src):\n",
    "    import cv2\n",
    "    import numpy as np\n",
    "    import deepface as DeepFace\n",
    "    \n",
    "    cap = cv2.VideoCapture(input_src)\n",
    "    cascade = cv2.CascadeClassifier(cv2.data.haarcascades + \"haarcascade_frontalface_default.xml\")\n",
    "    \n",
    "    output_path = output_src\n",
    "    width = int(cap.get(cv2.CAP_PROP_FRAME_WIDTH))\n",
    "    height = int(cap.get(cv2.CAP_PROP_FRAME_HEIGHT))\n",
    "    writer = cv2.VideoWriter(output_path, cv2.VideoWriter_fourcc(*'mp4v'), 20, (width, height))\n",
    "    \n",
    "    # Does whole video. Takes some time and memory\n",
    "    r, frame_source = cap.read()\n",
    "    while r is not False:    \n",
    "        frame = cv2.cvtColor(frame_source, cv2.COLOR_BGR2GRAY)\n",
    "        face = cascade.detectMultiScale(frame, 1.1, 4)\n",
    "        if np.any(face):\n",
    "            for (x, y, w, h) in face:\n",
    "                emotion = DeepFace.analyze(frame_source, actions=(\"emotion\", ), silent=True)\n",
    "                text = f\"Emotion is {emotion[0]['dominant_emotion']}\"\n",
    "                cv2.putText(frame_source, text, (x, y-10), cv2.FONT_HERSHEY_SIMPLEX, 0.9, (36, 255, 12), 2)\n",
    "                cv2.rectangle(frame_source, (x, y), (x+w, y+h), (0, 255, 0), 2)\n",
    "                writer.write(frame_source)\n",
    "        r, frame_source = cap.read()\n",
    "    \n",
    "    cap.release()\n",
    "    writer.release()"
   ],
   "metadata": {
    "collapsed": false,
    "ExecuteTime": {
     "end_time": "2023-11-07T20:05:23.877872Z",
     "start_time": "2023-11-07T20:05:23.864175Z"
    }
   },
   "id": "bfdecb427beb0e4e"
  },
  {
   "cell_type": "code",
   "execution_count": null,
   "outputs": [],
   "source": [],
   "metadata": {
    "collapsed": false
   },
   "id": "14d8cfba0d0eddb1"
  }
 ],
 "metadata": {
  "kernelspec": {
   "display_name": "Python 3",
   "language": "python",
   "name": "python3"
  },
  "language_info": {
   "codemirror_mode": {
    "name": "ipython",
    "version": 2
   },
   "file_extension": ".py",
   "mimetype": "text/x-python",
   "name": "python",
   "nbconvert_exporter": "python",
   "pygments_lexer": "ipython2",
   "version": "2.7.6"
  }
 },
 "nbformat": 4,
 "nbformat_minor": 5
}
