{
  "nbformat": 4,
  "nbformat_minor": 0,
  "metadata": {
    "colab": {
      "provenance": [],
      "authorship_tag": "ABX9TyO63jhgZpb9XbpXMP/n2XRS",
      "include_colab_link": true
    },
    "kernelspec": {
      "name": "python3",
      "display_name": "Python 3"
    },
    "language_info": {
      "name": "python"
    }
  },
  "cells": [
    {
      "cell_type": "markdown",
      "metadata": {
        "id": "view-in-github",
        "colab_type": "text"
      },
      "source": [
        "<a href=\"https://colab.research.google.com/github/peturv/ai_ml_course_2023/blob/main/3_Lists.ipynb\" target=\"_parent\"><img src=\"https://colab.research.google.com/assets/colab-badge.svg\" alt=\"Open In Colab\"/></a>"
      ]
    },
    {
      "cell_type": "markdown",
      "source": [
        "#Simple list experiments"
      ],
      "metadata": {
        "id": "TnigabzOFXRh"
      }
    },
    {
      "cell_type": "code",
      "execution_count": 10,
      "metadata": {
        "colab": {
          "base_uri": "https://localhost:8080/"
        },
        "id": "xwX7hf52B99W",
        "outputId": "69aea86b-35cb-4b2f-c101-afdffbec752b"
      },
      "outputs": [
        {
          "output_type": "stream",
          "name": "stdout",
          "text": [
            "[]\n",
            "[1, 1, 2, 3, 4]\n",
            "[1, 1, 2, 3, 4, ['hubba'], 6, 7, 8] [1, 1, 2, 3, 4, ['hubba'], 6, 7, 8]\n",
            "[1, 1, 2, 3, 4, ['hubba'], 6, 7, 8] [1, 1, 2, 3, 4, ['hubba'], 6, 7, 8]\n",
            "[1, 1, 2, 3, 4, ['hubba'], 6, 7, 8] [1, 1, 2, 3, 4, 'bubba']\n"
          ]
        }
      ],
      "source": [
        "list1 = list()\n",
        "print(list1)\n",
        "list1.append(1)\n",
        "list1.extend([1,2,3,4])\n",
        "print(list1)\n",
        "\n",
        "list_by_reference = list1\n",
        "list_by_copy = list1.copy()\n",
        "list1.extend([[\"hubba\"], 6,7,8])\n",
        "list_by_copy.append(\"bubba\")\n",
        "print(list1, list1)\n",
        "print(list1, list_by_reference)\n",
        "print(list1, list_by_copy)"
      ]
    },
    {
      "cell_type": "markdown",
      "source": [
        "# Nested lists\n",
        "Behave like normal lists/arrays"
      ],
      "metadata": {
        "id": "plQYIjQZFcp7"
      }
    },
    {
      "cell_type": "code",
      "source": [
        "#target = list()\n",
        "#for i in range(0, 10):"
      ],
      "metadata": {
        "id": "tCgku4BmFb7G"
      },
      "execution_count": null,
      "outputs": []
    },
    {
      "cell_type": "markdown",
      "source": [
        "#Lab 1\n",
        "With following nested list:\n",
        "`nested_list = ['a','b',['cc','dd',['eee','fff']],'g','h']`\n",
        "1. Add 'c' after 'b'\n",
        "2. Add 'ee' after 'dd'\n",
        "3. Remove 'fff'\n",
        "4. Add 'ii','jj'"
      ],
      "metadata": {
        "id": "QlggItDUF_zh"
      }
    },
    {
      "cell_type": "code",
      "source": [
        "nested_list = ['a','b',['cc','dd',['eee','fff']],'g','h']"
      ],
      "metadata": {
        "id": "cyZ8WAUoF9cj"
      },
      "execution_count": 40,
      "outputs": []
    },
    {
      "cell_type": "markdown",
      "source": [
        "Add 'c' after 'b'"
      ],
      "metadata": {
        "id": "k-hZuMkOIq9i"
      }
    },
    {
      "cell_type": "code",
      "source": [
        "nested_list.insert(nested_list.index('b') + 1,'c')\n",
        "print(nested_list)"
      ],
      "metadata": {
        "colab": {
          "base_uri": "https://localhost:8080/"
        },
        "id": "e_iCxzWKIkRG",
        "outputId": "f29ee5f2-d4ef-4ec1-b507-061f8de06abd"
      },
      "execution_count": 41,
      "outputs": [
        {
          "output_type": "stream",
          "name": "stdout",
          "text": [
            "['a', 'b', 'c', ['cc', 'dd', ['eee', 'fff']], 'g', 'h']\n"
          ]
        }
      ]
    },
    {
      "cell_type": "markdown",
      "source": [
        "Add 'ee' after 'dd'"
      ],
      "metadata": {
        "id": "dIXYZRH3In6J"
      }
    },
    {
      "cell_type": "code",
      "source": [
        "nested_list[3].insert(nested_list[3].index('dd') + 1,'ee')\n",
        "print(nested_list)"
      ],
      "metadata": {
        "colab": {
          "base_uri": "https://localhost:8080/"
        },
        "id": "8PVhbfA5H2Dl",
        "outputId": "16fb3d67-9c24-4b99-cf86-7c9beaa1c75b"
      },
      "execution_count": 42,
      "outputs": [
        {
          "output_type": "stream",
          "name": "stdout",
          "text": [
            "['a', 'b', 'c', ['cc', 'dd', 'ee', ['eee', 'fff']], 'g', 'h']\n"
          ]
        }
      ]
    },
    {
      "cell_type": "markdown",
      "source": [
        "Remove 'fff'"
      ],
      "metadata": {
        "id": "1QMrNEP2IwRP"
      }
    },
    {
      "cell_type": "code",
      "source": [
        "nested_list[3][3].pop()\n",
        "print(nested_list)"
      ],
      "metadata": {
        "colab": {
          "base_uri": "https://localhost:8080/"
        },
        "id": "gU7uy0DAIhyl",
        "outputId": "fe56f0fe-1b35-4662-f546-c04a72574b7e"
      },
      "execution_count": 43,
      "outputs": [
        {
          "output_type": "stream",
          "name": "stdout",
          "text": [
            "['a', 'b', 'c', ['cc', 'dd', 'ee', ['eee']], 'g', 'h']\n"
          ]
        }
      ]
    },
    {
      "cell_type": "markdown",
      "source": [
        "Add 'ii','jj'"
      ],
      "metadata": {
        "id": "SxkXDkgQIyzL"
      }
    },
    {
      "cell_type": "code",
      "source": [
        "nested_list.append(['ii','jj'])\n",
        "print(nested_list)"
      ],
      "metadata": {
        "colab": {
          "base_uri": "https://localhost:8080/"
        },
        "id": "_IfefD8VJCR8",
        "outputId": "6146b7af-ac75-4cfe-8763-f9f327a2ff43"
      },
      "execution_count": 44,
      "outputs": [
        {
          "output_type": "stream",
          "name": "stdout",
          "text": [
            "['a', 'b', 'c', ['cc', 'dd', 'ee', ['eee']], 'g', 'h', ['ii', 'jj']]\n"
          ]
        }
      ]
    },
    {
      "cell_type": "markdown",
      "source": [
        "Same, but less confusion"
      ],
      "metadata": {
        "id": "T1_uEl1JPdEO"
      }
    },
    {
      "cell_type": "code",
      "source": [
        "def addAfter(addition, needle, target):\n",
        "\n",
        "    if type(target) == list:\n",
        "        if needle in target:\n",
        "            target.insert(target.index(needle)+1, addition)\n",
        "        else:\n",
        "            for i in range(0, len(target)):\n",
        "                addAfter(addition, needle, target[i])\n",
        "    return\n",
        "\n",
        "def removeFrom(needle, target):\n",
        "    if needle in target:\n",
        "        target.pop(target.index(needle))\n",
        "    elif type(target) == list:\n",
        "        for i in range(0, len(target)):\n",
        "            removeFrom(needle, target[i])\n",
        "    return\n",
        "\n",
        "nested_list = list()\n",
        "nested_list.extend(['a','b',['cc','dd',['eee','fff']],'g','h'])\n",
        "addAfter('c', 'b', nested_list)\n",
        "addAfter('dd', 'ee', nested_list)\n",
        "removeFrom('fff', nested_list)\n",
        "nested_list.append(['ii','jj'])\n",
        "print(nested_list)\n"
      ],
      "metadata": {
        "colab": {
          "base_uri": "https://localhost:8080/"
        },
        "id": "9D16TNBxJkxr",
        "outputId": "2ffba28c-f840-435b-b4f2-0737582493b1"
      },
      "execution_count": 55,
      "outputs": [
        {
          "output_type": "stream",
          "name": "stdout",
          "text": [
            "['a', 'b', 'c', ['cc', 'dd', ['eee']], 'g', 'h', ['ii', 'jj']]\n"
          ]
        }
      ]
    },
    {
      "cell_type": "markdown",
      "source": [
        "#Dictionaries\n",
        "\"A little bit of everything, all of the time\"\n",
        "\n",
        "Just testing content, how it handles maps vs lists.\n",
        "\n",
        "_note_: Looks 1:1 with json in format."
      ],
      "metadata": {
        "id": "tLrpPrqpTi08"
      }
    },
    {
      "cell_type": "code",
      "source": [
        "mydict = {\n",
        "    \"A\": \"little\",\n",
        "}\n",
        "mydict['bit of'] = \"everything,\"\n",
        "mydict['all'] = {\n",
        "    \"of\": [\"the\", \"time\"],\n",
        "}\n",
        "print(mydict)\n",
        "def printdict(d):\n",
        "    result = \"\"\n",
        "    if type(d) is list:\n",
        "        return \" \".join(d)\n",
        "    elif type(d) is dict:\n",
        "        # .items() saves cycles by loading into (RAM/cache?)\n",
        "        for key, value in d.items():\n",
        "            result += key + \" \" + printdict(value)\n",
        "        return result + \" \"\n",
        "    else:\n",
        "        return d + \" \"\n",
        "\n",
        "print(printdict(mydict))"
      ],
      "metadata": {
        "colab": {
          "base_uri": "https://localhost:8080/"
        },
        "id": "RhnZuUR-TnsC",
        "outputId": "0cbce503-12e5-444f-e918-bd710393abd8"
      },
      "execution_count": 73,
      "outputs": [
        {
          "output_type": "stream",
          "name": "stdout",
          "text": [
            "{'A': 'little', 'bit of': 'everything,', 'all': {'of': ['the', 'time']}}\n",
            "A little bit of everything, all of the time  \n"
          ]
        }
      ]
    }
  ]
}