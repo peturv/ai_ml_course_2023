{
 "cells": [
  {
   "cell_type": "code",
   "execution_count": 2,
   "metadata": {
    "ExecuteTime": {
     "end_time": "2023-10-09T18:18:15.873508Z",
     "start_time": "2023-10-09T18:18:15.845709Z"
    }
   },
   "outputs": [],
   "source": [
    "from sklearn.metrics import r2_score"
   ]
  },
  {
   "cell_type": "code",
   "execution_count": 3,
   "metadata": {
    "ExecuteTime": {
     "end_time": "2023-10-09T18:18:15.873977Z",
     "start_time": "2023-10-09T18:18:15.849787Z"
    }
   },
   "outputs": [],
   "source": [
    "y_true = [3, -0.5, 2, 7]"
   ]
  },
  {
   "cell_type": "code",
   "execution_count": 4,
   "metadata": {
    "ExecuteTime": {
     "end_time": "2023-10-09T18:18:15.874322Z",
     "start_time": "2023-10-09T18:18:15.853974Z"
    }
   },
   "outputs": [],
   "source": [
    "y_pred = [2.5, 0.0, 2, 8]"
   ]
  },
  {
   "cell_type": "code",
   "execution_count": 5,
   "metadata": {
    "ExecuteTime": {
     "end_time": "2023-10-09T18:18:15.968295Z",
     "start_time": "2023-10-09T18:18:15.857176Z"
    }
   },
   "outputs": [
    {
     "data": {
      "text/plain": "0.9486081370449679"
     },
     "execution_count": 5,
     "metadata": {},
     "output_type": "execute_result"
    }
   ],
   "source": [
    "r2_score(y_true, y_pred)"
   ]
  },
  {
   "cell_type": "code",
   "execution_count": 6,
   "metadata": {
    "ExecuteTime": {
     "end_time": "2023-10-09T18:18:15.973927Z",
     "start_time": "2023-10-09T18:18:15.865918Z"
    }
   },
   "outputs": [],
   "source": [
    "y_true = [1, 2, 3]"
   ]
  },
  {
   "cell_type": "code",
   "execution_count": 7,
   "metadata": {
    "ExecuteTime": {
     "end_time": "2023-10-09T18:18:15.974283Z",
     "start_time": "2023-10-09T18:18:15.870322Z"
    }
   },
   "outputs": [],
   "source": [
    "y_pred = [1, 2, 3]"
   ]
  },
  {
   "cell_type": "code",
   "execution_count": 8,
   "metadata": {
    "ExecuteTime": {
     "end_time": "2023-10-09T18:18:15.975963Z",
     "start_time": "2023-10-09T18:18:15.872547Z"
    }
   },
   "outputs": [
    {
     "data": {
      "text/plain": "1.0"
     },
     "execution_count": 8,
     "metadata": {},
     "output_type": "execute_result"
    }
   ],
   "source": [
    "r2_score(y_true, y_pred)"
   ]
  },
  {
   "cell_type": "code",
   "execution_count": 9,
   "metadata": {
    "ExecuteTime": {
     "end_time": "2023-10-09T18:18:15.976346Z",
     "start_time": "2023-10-09T18:18:15.877759Z"
    }
   },
   "outputs": [],
   "source": [
    "y_true = [1, 2, 3]"
   ]
  },
  {
   "cell_type": "code",
   "execution_count": 10,
   "metadata": {
    "ExecuteTime": {
     "end_time": "2023-10-09T18:18:15.976556Z",
     "start_time": "2023-10-09T18:18:15.898010Z"
    }
   },
   "outputs": [],
   "source": [
    "y_pred = [2, 2, 2]"
   ]
  },
  {
   "cell_type": "code",
   "execution_count": 11,
   "metadata": {
    "ExecuteTime": {
     "end_time": "2023-10-09T18:18:15.977296Z",
     "start_time": "2023-10-09T18:18:15.902163Z"
    }
   },
   "outputs": [
    {
     "data": {
      "text/plain": "0.0"
     },
     "execution_count": 11,
     "metadata": {},
     "output_type": "execute_result"
    }
   ],
   "source": [
    "r2_score(y_true, y_pred)"
   ]
  },
  {
   "cell_type": "code",
   "execution_count": 12,
   "metadata": {
    "ExecuteTime": {
     "end_time": "2023-10-09T18:18:15.977454Z",
     "start_time": "2023-10-09T18:18:15.906961Z"
    }
   },
   "outputs": [],
   "source": [
    "y_true = [1, 2, 3]"
   ]
  },
  {
   "cell_type": "code",
   "execution_count": 13,
   "metadata": {
    "ExecuteTime": {
     "end_time": "2023-10-09T18:18:15.977556Z",
     "start_time": "2023-10-09T18:18:15.910718Z"
    }
   },
   "outputs": [],
   "source": [
    "y_pred = [3, 2, 1]"
   ]
  },
  {
   "cell_type": "code",
   "execution_count": 14,
   "metadata": {
    "ExecuteTime": {
     "end_time": "2023-10-09T18:18:15.977758Z",
     "start_time": "2023-10-09T18:18:15.914485Z"
    }
   },
   "outputs": [
    {
     "data": {
      "text/plain": "-3.0"
     },
     "execution_count": 14,
     "metadata": {},
     "output_type": "execute_result"
    }
   ],
   "source": [
    "r2_score(y_true, y_pred)"
   ]
  },
  {
   "cell_type": "code",
   "execution_count": 14,
   "metadata": {
    "ExecuteTime": {
     "end_time": "2023-10-09T18:18:15.978049Z",
     "start_time": "2023-10-09T18:18:15.920474Z"
    }
   },
   "outputs": [],
   "source": []
  }
 ],
 "metadata": {
  "kernelspec": {
   "display_name": "Python 3",
   "language": "python",
   "name": "python3"
  },
  "language_info": {
   "codemirror_mode": {
    "name": "ipython",
    "version": 3
   },
   "file_extension": ".py",
   "mimetype": "text/x-python",
   "name": "python",
   "nbconvert_exporter": "python",
   "pygments_lexer": "ipython3",
   "version": "3.7.7"
  }
 },
 "nbformat": 4,
 "nbformat_minor": 2
}
